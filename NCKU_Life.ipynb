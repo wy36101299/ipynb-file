{
 "metadata": {
  "name": "",
  "signature": "sha256:cc42449202367bf4c9de4c348d8a30058e3f3d0c7eeb671ed66e4fb70f197464"
 },
 "nbformat": 3,
 "nbformat_minor": 0,
 "worksheets": [
  {
   "cells": [
    {
     "cell_type": "code",
     "collapsed": false,
     "input": [
      "# \u96a8\u6642\u66f4\u65b0\u624d\u53ef\u7528\n",
      "ACCESS_TOKEN = \"\""
     ],
     "language": "python",
     "metadata": {},
     "outputs": [],
     "prompt_number": 1
    },
    {
     "cell_type": "code",
     "collapsed": false,
     "input": [
      "import facebook # pip install facebook-sdk\n",
      "import requests\n",
      "import json\n",
      "from random import randint\n",
      "# A helper function to pretty-print Python objects as JSON\n",
      "def pp(o): \n",
      "    print json.dumps(o, indent=1)\n",
      "# Create a connection to the Graph API with your access token\n",
      "g = facebook.GraphAPI(ACCESS_TOKEN)"
     ],
     "language": "python",
     "metadata": {},
     "outputs": [],
     "prompt_number": 2
    },
    {
     "cell_type": "code",
     "collapsed": false,
     "input": [
      "# \u91cd\u8986\u8b80\u53d6next url \u8cc7\u8a0a\n",
      "def resUrl(content,total_posts):\n",
      "    # debug\u7528\n",
      "    for one in content['data']:\n",
      "        total_posts.append(one)\n",
      "    if content['paging'].has_key(\"next\"):\n",
      "        content = requests.get(content['paging']['next']).json()\n",
      "        resUrl(content,total_posts)\n",
      "\n",
      "# \u8a08\u7b97\u7e3d\u7559\u8a00 \n",
      "def commentsSum(message):\n",
      "    # \u8a72\u7bc7\u7559\u8a00\u7684comments\u6578\n",
      "    total_posts = [ one for one in message['comments']['data']]\n",
      "    # \u8a72\u7bc7\u7559\u8a00\u7684comments\u6578 nextpage\n",
      "    if message['comments']['paging'].has_key(\"next\"):\n",
      "        content = requests.get(message['comments']['paging']['next']).json()\n",
      "        resUrl(content,total_posts)\n",
      "    return total_posts"
     ],
     "language": "python",
     "metadata": {},
     "outputs": [],
     "prompt_number": 3
    },
    {
     "cell_type": "code",
     "collapsed": false,
     "input": [
      "# lifencku\n",
      "about = g.get_object('https://www.facebook.com/lifencku')\n",
      "comments = g.get_object('https://www.facebook.com/lifencku/photos/a.348937965310999.1073741828.348140638724065/361833650688097/?type=1&__mref=message_bubble')\n",
      "data = commentsSum(comments)"
     ],
     "language": "python",
     "metadata": {},
     "outputs": [],
     "prompt_number": 4
    },
    {
     "cell_type": "code",
     "collapsed": false,
     "input": [
      "# \u539f\u59cb\u7559\u8a00\u7684\u6578\u76ee\n",
      "len(data)"
     ],
     "language": "python",
     "metadata": {},
     "outputs": [
      {
       "metadata": {},
       "output_type": "pyout",
       "prompt_number": 5,
       "text": [
        "69"
       ]
      }
     ],
     "prompt_number": 5
    },
    {
     "cell_type": "code",
     "collapsed": false,
     "input": [
      "# \u4e0d\u8a08\u7b97\u91cd\u8986\u7559\u8a00\u7684\u4eba\n",
      "compareList = []\n",
      "dataSet=[]\n",
      "for tmp in data:\n",
      "    if tmp[u'from'][u'name'] not in compareList:\n",
      "        compareList.append(tmp[u'from'][u'name'])\n",
      "        dataSet.append(tmp)"
     ],
     "language": "python",
     "metadata": {},
     "outputs": [],
     "prompt_number": 6
    },
    {
     "cell_type": "code",
     "collapsed": false,
     "input": [
      "# \u53bb\u6389\u91cd\u8986\u7559\u8a00\u7684\u4eba\u6578\n",
      "len(dataSet)"
     ],
     "language": "python",
     "metadata": {},
     "outputs": [
      {
       "metadata": {},
       "output_type": "pyout",
       "prompt_number": 7,
       "text": [
        "68"
       ]
      }
     ],
     "prompt_number": 7
    },
    {
     "cell_type": "code",
     "collapsed": false,
     "input": [
      "# \u8a2d\u5b9a\u62bd\u734e\u4eba\u6578\n",
      "peopleNum = 7\n",
      "# \u5df2\u7d93\u62bd\u4e2d\u7684\u4ebaList\n",
      "alreadyList=[]\n",
      "print(about['name'])\n",
      "print('----------------------------')\n",
      "i=1\n",
      "while i <= peopleNum:\n",
      "    numr = randint(0,len(dataSet)-1)\n",
      "    # \u53bb\u9664\u5df2\u7d93\u62bd\u4e2d\u7684\u4eba\n",
      "    if numr not in alreadyList:\n",
      "        alreadyList.append(numr)\n",
      "        i+=1\n",
      "        print(dataSet[numr][u'from'][u'name'])"
     ],
     "language": "python",
     "metadata": {},
     "outputs": [
      {
       "output_type": "stream",
       "stream": "stdout",
       "text": [
        "\u6210\u5927\u751f\u6d3b\u7bc0 NCKU Life\n",
        "----------------------------\n",
        "\u5433\u975c\u5b9c\n",
        "\u8cf4\u5b8f\u5a01\n",
        "\u85cd\u6bd4\n",
        "Alexis Teng\n",
        "\u5289\u5bb6\u79c0\n",
        "\u9322\u81fb\u5e1d\n",
        "\u67ef\u51a0\u5ef7\n"
       ]
      }
     ],
     "prompt_number": 8
    },
    {
     "cell_type": "code",
     "collapsed": false,
     "input": [],
     "language": "python",
     "metadata": {},
     "outputs": [],
     "prompt_number": 174
    },
    {
     "cell_type": "code",
     "collapsed": false,
     "input": [],
     "language": "python",
     "metadata": {},
     "outputs": []
    }
   ],
   "metadata": {}
  }
 ]
}