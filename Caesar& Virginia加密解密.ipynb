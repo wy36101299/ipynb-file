{
 "metadata": {
  "name": "",
  "signature": "sha256:9db16307796d34aadb92b2818a41bf3ca5cd6cdec73fd7c1311a1c72cc902a49"
 },
 "nbformat": 3,
 "nbformat_minor": 0,
 "worksheets": [
  {
   "cells": [
    {
     "cell_type": "code",
     "collapsed": false,
     "input": [
      "import re"
     ],
     "language": "python",
     "metadata": {},
     "outputs": [],
     "prompt_number": 1
    },
    {
     "cell_type": "code",
     "collapsed": false,
     "input": [
      "def mapSletter():\n",
      "    letter = 'a,b,c,d,e,f,g,h,i,j,k,l,m,n,o,p,q,r,s,t,u,v,w,x,y,z'\n",
      "    return letter.split(',')"
     ],
     "language": "python",
     "metadata": {},
     "outputs": [],
     "prompt_number": 2
    },
    {
     "cell_type": "code",
     "collapsed": false,
     "input": [
      "def mapBletter():\n",
      "    letter = 'A,B,C,D,E,F,G,H,I,J,K,L,M,N,O,P,Q,R,S,T,U,V,W,X,Y,Z'\n",
      "    return letter.split(',')"
     ],
     "language": "python",
     "metadata": {},
     "outputs": [],
     "prompt_number": 3
    },
    {
     "cell_type": "code",
     "collapsed": false,
     "input": [
      "letterSList = mapSletter()"
     ],
     "language": "python",
     "metadata": {},
     "outputs": [],
     "prompt_number": 4
    },
    {
     "cell_type": "code",
     "collapsed": false,
     "input": [
      "letterBList = mapBletter()"
     ],
     "language": "python",
     "metadata": {},
     "outputs": [],
     "prompt_number": 5
    },
    {
     "cell_type": "markdown",
     "metadata": {},
     "source": [
      "#Caesar\n",
      "## \u7a7a\u767d\u548c\u5e95\u7dda\u6703\u8df3\u904e \u82f1\u6587\u5927\u5c0f\u5beb\u7686\u53ef\u52a0\u89e3\u5bc6\uff0c\u82e5\u51fa\u73fe\u7a7a\u767d\u5e95\u7dda\u82f1\u6587\u4ee5\u5916\u7684\u5b57\u5143\u6703\u8df3\u51fa\u63d0\u793a"
     ]
    },
    {
     "cell_type": "code",
     "collapsed": false,
     "input": [
      "# Caesar\u52a0\u5bc6\n",
      "def CaesarEncryption(cipher,shifting):    \n",
      "    encryption =''\n",
      "    for t in cipher:\n",
      "        # \u9047\u5230 \u7a7a\u767d\u548c\u5e95\u7dda\u4e0d\u52a0\u5bc6\n",
      "        if t ==' ' or t=='_' or t=='\uff3f':\n",
      "            encryption += t\n",
      "        else:\n",
      "            # \u5c0f\u5beb\u52a0\u5bc6\n",
      "            if re.match(r'[a-z]', t) != None:\n",
      "                cipherNum = letterSList.index(t)\n",
      "                cipherShiftingNum = (cipherNum+shifting)%26\n",
      "                encryption += letterSList[cipherShiftingNum]\n",
      "            # \u5927\u5beb\u52a0\u5bc6\n",
      "            elif re.match(r'[A-Z]', t) != None:\n",
      "                cipherNum = letterBList.index(t)\n",
      "                cipherShiftingNum = (cipherNum+shifting)%26\n",
      "                encryption += letterBList[cipherShiftingNum]\n",
      "            # \u8d85\u51fa\u53ef\u52a0\u5bc6\u7684\u7bc4\u570d\n",
      "            else:\n",
      "                print(t+'\\n'+'\u7121\u6cd5\u52a0\u5bc6'+'\\n'+'\u8acb\u8f38\u5165\u82f1\u6587(\u5927\u5c0f\u5beb\u7686\u53ef) or \u7a7a\u767d \u5e95\u7dda\u7686\u53ef\u52a0\u5bc6')\n",
      "                return None\n",
      "    return encryption "
     ],
     "language": "python",
     "metadata": {},
     "outputs": [],
     "prompt_number": 6
    },
    {
     "cell_type": "code",
     "collapsed": false,
     "input": [
      "# Caesar\u89e3\u5bc6\n",
      "def CaesarDecrypt(cipher,shifting):    \n",
      "    decrypt=''\n",
      "    for t in cipher:\n",
      "        # \u9047\u5230 \u7a7a\u767d\u548c\u5e95\u7dda\u4e0d\u89e3\u5bc6\n",
      "        if t ==' ' or t=='_' or t=='\uff3f':\n",
      "            decrypt += t\n",
      "        else:\n",
      "            # \u5c0f\u5beb\u89e3\u5bc6\n",
      "            if re.match(r'[a-z]', t) != None:\n",
      "                cipherNum = letterSList.index(t)\n",
      "                cipherShiftingNum = (cipherNum-shifting)%26\n",
      "                decrypt +=letterSList[cipherShiftingNum]\n",
      "            # \u5927\u5beb\u89e3\u5bc6\n",
      "            elif re.match(r'[A-Z]', t) != None:\n",
      "                cipherNum = letterBList.index(t)\n",
      "                cipherShiftingNum = (cipherNum-shifting)%26\n",
      "                decrypt +=letterBList[cipherShiftingNum]\n",
      "            # \u8d85\u51fa\u53ef\u89e3\u5bc6\u7684\u7bc4\u570d\n",
      "            else:\n",
      "                print(t+'\\n'+'\u7121\u6cd5\u89e3\u5bc6'+'\\n'+'\u8acb\u8f38\u5165\u82f1\u6587(\u5927\u5c0f\u5beb\u7686\u53ef) or \u7a7a\u767d \u5e95\u7dda\u7686\u53ef\u89e3\u5bc6')\n",
      "                return None\n",
      "    return decrypt "
     ],
     "language": "python",
     "metadata": {},
     "outputs": [],
     "prompt_number": 7
    },
    {
     "cell_type": "code",
     "collapsed": false,
     "input": [
      "s = 'A a_nnersmakethmaN'"
     ],
     "language": "python",
     "metadata": {},
     "outputs": [],
     "prompt_number": 8
    },
    {
     "cell_type": "code",
     "collapsed": false,
     "input": [
      "# \u6e2c\u8a66Caesar\u52a0\u5bc6\n",
      "CaesarEncryption(s,3)"
     ],
     "language": "python",
     "metadata": {},
     "outputs": [
      {
       "metadata": {},
       "output_type": "pyout",
       "prompt_number": 9,
       "text": [
        "'D d_qqhuvpdnhwkpdQ'"
       ]
      }
     ],
     "prompt_number": 9
    },
    {
     "cell_type": "code",
     "collapsed": false,
     "input": [
      "# \u6e2c\u8a66Caesar\u89e3\u5bc6\n",
      "CaesarDecrypt(CaesarEncryption(s,3),3)"
     ],
     "language": "python",
     "metadata": {},
     "outputs": [
      {
       "metadata": {},
       "output_type": "pyout",
       "prompt_number": 10,
       "text": [
        "'A a_nnersmakethmaN'"
       ]
      }
     ],
     "prompt_number": 10
    },
    {
     "cell_type": "markdown",
     "metadata": {},
     "source": [
      "#virginia\n",
      "## \u7a7a\u767d\u548c\u5e95\u7dda\u6703\u8df3\u904e \u82f1\u6587\u5927\u5c0f\u5beb\u7686\u53ef\u52a0\u89e3\u5bc6\uff0c\u82e5\u51fa\u73fe\u7a7a\u767d\u5e95\u7dda\u82f1\u6587\u4ee5\u5916\u7684\u5b57\u5143\u6703\u8df3\u51fa\u63d0\u793a"
     ]
    },
    {
     "cell_type": "code",
     "collapsed": false,
     "input": [
      "# \u7522\u751f\u79d8\u9470\n",
      "def virginiaKeyPro(cipher,key):\n",
      "    keyTmp = key * ((len(cipher)/len(key))+1)\n",
      "    return keyTmp[:len(cipher)]"
     ],
     "language": "python",
     "metadata": {},
     "outputs": [],
     "prompt_number": 11
    },
    {
     "cell_type": "code",
     "collapsed": false,
     "input": [
      "# virginia\u52a0\u5bc6\n",
      "def virginiaEncryp(cipher,key):\n",
      "    virginiaKey = virginiaKeyPro(cipher,key)\n",
      "    encryp=''\n",
      "    for a,b in zip(cipher,virginiaKey):\n",
      "        if a ==' ' or a=='_' or a=='\uff3f':\n",
      "            encryp+=a\n",
      "        else:\n",
      "            if re.match(r'[a-z]', a) != None:\n",
      "                if re.match(r'[a-z]', b) != None:\n",
      "                    keyIndex = letterSList.index(b)\n",
      "                elif re.match(r'[A-Z]', b) != None:\n",
      "                    keyIndex = letterBList.index(b)\n",
      "                cipherIndex = letterSList.index(a)\n",
      "                encrypLetter = letterSList[(keyIndex+cipherIndex)%26]\n",
      "                encryp+=encrypLetter\n",
      "            elif re.match(r'[A-Z]', a) != None:\n",
      "                if re.match(r'[a-z]', b) != None:\n",
      "                    keyIndex = letterSList.index(b)\n",
      "                elif re.match(r'[A-Z]', b) != None:\n",
      "                    keyIndex = letterBList.index(b)\n",
      "                cipherIndex = letterBList.index(a)\n",
      "                encrypLetter = letterBList[(keyIndex+cipherIndex)%26]\n",
      "                encryp+=encrypLetter                \n",
      "            else:\n",
      "                print('\u7121\u6cd5\u52a0\u5bc6'+'\\n'+'\u8acb\u8f38\u5165\u82f1\u6587(\u76ee\u524d\u53ea\u63d0\u4f9b\u5c0f\u5beb) or \u7a7a\u767d \u5e95\u7dda\u7686\u53ef\u52a0\u5bc6')\n",
      "                return None  \n",
      "    return encryp"
     ],
     "language": "python",
     "metadata": {},
     "outputs": [],
     "prompt_number": 12
    },
    {
     "cell_type": "code",
     "collapsed": false,
     "input": [
      "# virginia\u89e3\u5bc6\n",
      "def virginiaDecrypt(cipher,key):\n",
      "    virginiaKey = virginiaKeyPro(cipher,key)\n",
      "    decrypt = ''\n",
      "    for a,b in zip(cipher,virginiaKey):\n",
      "        if a ==' ' or a=='_' or a=='\uff3f':\n",
      "            decrypt+=a\n",
      "        else:\n",
      "            if re.match(r'[a-z]', a) != None:\n",
      "                if re.match(r'[a-z]', b) != None:\n",
      "                    keyIndex = letterSList.index(b)\n",
      "                elif re.match(r'[A-Z]', b) != None:\n",
      "                    keyIndex = letterBList.index(b)\n",
      "                cipherIndex = letterSList.index(a)\n",
      "                # Ci = (Pi + Ki) mod26\n",
      "                decryptLetter = letterSList[( cipherIndex-keyIndex+26 )%26]\n",
      "                decrypt+=decryptLetter\n",
      "            elif re.match(r'[A-Z]', a) != None:\n",
      "                if re.match(r'[a-z]', b) != None:\n",
      "                    keyIndex = letterSList.index(b)\n",
      "                elif re.match(r'[A-Z]', b) != None:\n",
      "                    keyIndex = letterBList.index(b)\n",
      "                cipherIndex = letterBList.index(a)\n",
      "                # Pi = (Ci - Ki) mod26 \u52a026\u662f\u70ba\u4e86\u628a\u8ca0\u6578\u5c0e\u6b63\n",
      "                decryptLetter = letterBList[( cipherIndex-keyIndex+26 )%26]\n",
      "                decrypt+=decryptLetter                \n",
      "            else:\n",
      "                print('\u7121\u6cd5\u89e3\u5bc6'+'\\n'+'\u8acb\u8f38\u5165\u82f1\u6587(\u76ee\u524d\u53ea\u63d0\u4f9b\u5c0f\u5beb) or \u7a7a\u767d \u5e95\u7dda\u7686\u53ef\u89e3\u5bc6')\n",
      "                return None                \n",
      "    return decrypt"
     ],
     "language": "python",
     "metadata": {},
     "outputs": [],
     "prompt_number": 13
    },
    {
     "cell_type": "code",
     "collapsed": false,
     "input": [
      "Cypher = \"attackatdA_\"\n",
      "key = \"lemon\""
     ],
     "language": "python",
     "metadata": {},
     "outputs": [],
     "prompt_number": 14
    },
    {
     "cell_type": "code",
     "collapsed": false,
     "input": [
      "# \u6e2c\u8a66virginia\u52a0\u5bc6\n",
      "virginiaEncryp(Cypher,key)"
     ],
     "language": "python",
     "metadata": {},
     "outputs": [
      {
       "metadata": {},
       "output_type": "pyout",
       "prompt_number": 15,
       "text": [
        "'lxfopvefrN_'"
       ]
      }
     ],
     "prompt_number": 15
    },
    {
     "cell_type": "code",
     "collapsed": false,
     "input": [
      "# \u6e2c\u8a66virginia\u52a0\u5bc6\n",
      "virginiaDecrypt(virginiaEncryp(Cypher,key),key)"
     ],
     "language": "python",
     "metadata": {},
     "outputs": [
      {
       "metadata": {},
       "output_type": "pyout",
       "prompt_number": 16,
       "text": [
        "'attackatdA_'"
       ]
      }
     ],
     "prompt_number": 16
    },
    {
     "cell_type": "code",
     "collapsed": false,
     "input": [
      "# reference \n",
      "# wiki --- http://zh.wikipedia.org/wiki/%E7%BB%B4%E5%90%89%E5%B0%BC%E4%BA%9A%E5%AF%86%E7%A0%81"
     ],
     "language": "python",
     "metadata": {},
     "outputs": [],
     "prompt_number": 17
    },
    {
     "cell_type": "code",
     "collapsed": false,
     "input": [
      "# github https://github.com/wy36101299/Vigen-re-cipher"
     ],
     "language": "python",
     "metadata": {},
     "outputs": [],
     "prompt_number": 18
    }
   ],
   "metadata": {}
  }
 ]
}