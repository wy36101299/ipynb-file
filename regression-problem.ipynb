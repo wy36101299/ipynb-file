{
 "metadata": {
  "name": "",
  "signature": "sha256:ac67ecf0f39e58d891bed98f9baa82085a05933e1f4efdc90ce5769a8f51307f"
 },
 "nbformat": 3,
 "nbformat_minor": 0,
 "worksheets": [
  {
   "cells": [
    {
     "cell_type": "code",
     "collapsed": false,
     "input": [
      "# \u555f\u52d5\u4e92\u52d5\u5f0f\u7e6a\u5716\u74b0\u5883\n",
      "%pylab inline\n",
      "import numpy as np\n",
      "import matplotlib.pyplot as plt"
     ],
     "language": "python",
     "metadata": {},
     "outputs": [
      {
       "output_type": "stream",
       "stream": "stdout",
       "text": [
        "Populating the interactive namespace from numpy and matplotlib\n"
       ]
      }
     ],
     "prompt_number": 1
    },
    {
     "cell_type": "code",
     "collapsed": false,
     "input": [
      "# \u8f09\u5165 file \u8f38\u51fa feature,label(\u6700\u5f8c\u4e00\u6b04)\n",
      "def loadDataSet(fileName):      \n",
      "    numFeat = len(open(fileName).readline().split('\\t')) - 1 \n",
      "    dataMat = []; labelMat = []\n",
      "    fr = open(fileName)\n",
      "    for line in fr.readlines():\n",
      "        lineArr =[]\n",
      "        curLine = line.strip().split('\\t')\n",
      "        for i in range(numFeat):\n",
      "            lineArr.append(float(curLine[i]))\n",
      "        dataMat.append(lineArr)\n",
      "        labelMat.append(float(curLine[-1]))\n",
      "    return dataMat,labelMat"
     ],
     "language": "python",
     "metadata": {},
     "outputs": [],
     "prompt_number": 2
    },
    {
     "cell_type": "markdown",
     "metadata": {},
     "source": [
      "#####\u77e9\u9663X \u5c0d\u61c9y  \n",
      "#####x:feature y:label\n",
      "\\\\[ y =\\{x^Tw}\\\\]\n",
      "#####\u5df2\u77e5x \u627e\u5230w \u5373\u53ef\u9810\u6e2cy\uff0c\u6545\u4e0b\u5217\u5404\u7a2e\u65b9\u6cd5\u70ba\u627ew\uff0c\u5efa\u7acbmodel\n",
      "\\\\[ w =\\({x^Tx})^{-1}{x^Ty}\\\\]"
     ]
    },
    {
     "cell_type": "code",
     "collapsed": false,
     "input": [
      "# OLS \u666e\u901a\u6700\u5c0f\u4e8c\u4e58\u6cd5 ordinary least squares\n",
      "# \u7406\u5ff5\u70ba \u6c42\u89e3w \u800c\u5e73\u65b9\u8aa4\u5dee\u6700\u5c0f\u5247\u8d8a\u63a5\u8fd1\u9810\u6e2c\u60c5\u5f62\n",
      "def OLS(xArr,yArr):\n",
      "    xMat = np.mat(xArr); yMat = np.mat(yArr).T\n",
      "    xTx = xMat.T*xMat\n",
      "    # \u6709\u4e9bmatrix\u4e0d\u53ef\u8f49\u70ba\u9006\u77e9\u9663\n",
      "    if np.linalg.det(xTx) == 0.0:\n",
      "        print (\"This matrix is singular, cannot do inverse\")\n",
      "        return\n",
      "    ws = xTx.I * (xMat.T*yMat)\n",
      "    return ws"
     ],
     "language": "python",
     "metadata": {},
     "outputs": [],
     "prompt_number": 3
    },
    {
     "cell_type": "code",
     "collapsed": false,
     "input": [
      "fileName = '/Users/wy/Desktop/ex0.txt'\n",
      "dataMat,labelMat = loadDataSet(fileName)"
     ],
     "language": "python",
     "metadata": {},
     "outputs": [],
     "prompt_number": 4
    },
    {
     "cell_type": "code",
     "collapsed": false,
     "input": [
      "dataMat[1:3]"
     ],
     "language": "python",
     "metadata": {},
     "outputs": [
      {
       "metadata": {},
       "output_type": "pyout",
       "prompt_number": 5,
       "text": [
        "[[1.0, 0.42781], [1.0, 0.995731]]"
       ]
      }
     ],
     "prompt_number": 5
    },
    {
     "cell_type": "code",
     "collapsed": false,
     "input": [
      "labelMat[1:3]"
     ],
     "language": "python",
     "metadata": {},
     "outputs": [
      {
       "metadata": {},
       "output_type": "pyout",
       "prompt_number": 6,
       "text": [
        "[3.816464, 4.550095]"
       ]
      }
     ],
     "prompt_number": 6
    },
    {
     "cell_type": "code",
     "collapsed": false,
     "input": [
      "# \u6c42\u51faw\n",
      "OLS_w = OLS(dataMat,labelMat)"
     ],
     "language": "python",
     "metadata": {},
     "outputs": [],
     "prompt_number": 7
    },
    {
     "cell_type": "code",
     "collapsed": false,
     "input": [
      "OLS_w"
     ],
     "language": "python",
     "metadata": {},
     "outputs": [
      {
       "metadata": {},
       "output_type": "pyout",
       "prompt_number": 8,
       "text": [
        "matrix([[ 3.00774324],\n",
        "        [ 1.69532264]])"
       ]
      }
     ],
     "prompt_number": 8
    },
    {
     "cell_type": "code",
     "collapsed": false,
     "input": [
      "# dataMat\u70balist\uff0c\u9700\u8f49\u70bamatrix\u904b\u7b97\n",
      "xMat = np.mat(dataMat)\n",
      "yMat = np.mat(labelMat)\n",
      "yHat = xMat*OLS_w"
     ],
     "language": "python",
     "metadata": {},
     "outputs": [],
     "prompt_number": 9
    },
    {
     "cell_type": "code",
     "collapsed": false,
     "input": [
      "# \u628ayHat matrix \u8f49\u70ba yHat.flatten().A[0] list\u683c\u5f0f\n",
      "# \u76f8\u95dc\u4fc2\u6578\n",
      "corrcoef(yHat.flatten().A[0],yMat.flatten().A[0])\n",
      "# 0.98 \u5efa\u7acbmodel\u6240\u9810\u6e2c\u7684y\u548c\u539f\u5148y\u76f8\u6bd4\u7684\u76f8\u95dc\u4fc2\u6578 \u883b\u9ad8\u7684XD"
     ],
     "language": "python",
     "metadata": {},
     "outputs": [
      {
       "metadata": {},
       "output_type": "pyout",
       "prompt_number": 10,
       "text": [
        "array([[ 1.        ,  0.98647356],\n",
        "       [ 0.98647356,  1.        ]])"
       ]
      }
     ],
     "prompt_number": 10
    },
    {
     "cell_type": "code",
     "collapsed": false,
     "input": [
      "# linear regression\u6700\u5e38\u51fa\u73fe\u7684\u554f\u984c\u70baunderfitting\uff0c\u6703\u6709\u4e00\u4e9bbias\uff0c\u6545\u5b9a\u6bcf\u4e00\u9ede\u7684\u9644\u8fd1\u7d66\u4e88weight\n",
      "# \u5c0d\u6bcf\u4e00\u9ede\u7d66\u4e88 Gaussian kernel \u4f86\u6539\u8b8a weight\n",
      "# \u5176\u7406\u5ff5\u70ba\u539f\u5148\u7528\u4e00\u689d\u7dda\u53bbfitting\uff0c\u6bcf\u4e00\u9ede\u7d66\u4e88weight\uff0c\u6709\u9ede\u50cf\u662f\u7528\u5f88\u591a\u689d\u5f88\u77ed\u7684\u76f4\u7dda\u53bb\u7d44\u6210model\n",
      "# Locally Weighted Linear Regression\n",
      "def lwlr(testPoint,xArr,yArr,k=1.0):\n",
      "    xMat = np.mat(xArr); yMat = np.mat(yArr).T\n",
      "    m = shape(xMat)[0]\n",
      "    weights = mat(eye((m)))\n",
      "    for j in range(m):                     \n",
      "        diffMat = testPoint - xMat[j,:]\n",
      "        weights[j,j] = exp(diffMat*diffMat.T/(-2.0*k**2))\n",
      "    xTx = xMat.T * (weights * xMat)\n",
      "    if linalg.det(xTx) == 0.0:\n",
      "        print (\"This matrix is singular, cannot do inverse\")\n",
      "        return\n",
      "    ws = xTx.I * (xMat.T * (weights * yMat))\n",
      "    return testPoint * ws\n",
      "\n",
      "def lwlrTest(testArr,xArr,yArr,k=1.0):  #loops over all the data points and applies lwlr to each one\n",
      "    m = shape(testArr)[0]\n",
      "    yHat = zeros(m)\n",
      "    for i in range(m):\n",
      "        yHat[i] = lwlr(testArr[i],xArr,yArr,k)\n",
      "    return yHat"
     ],
     "language": "python",
     "metadata": {},
     "outputs": [],
     "prompt_number": 11
    },
    {
     "cell_type": "code",
     "collapsed": false,
     "input": [
      "# \u6392\u9806\u5e8fx,y\u7531\u5c0f\u5230\u5927\n",
      "srtInd = xMat[:,1].argsort(0)\n",
      "xSort = xMat[srtInd][:,0,:]\n",
      "\n",
      "# # xMat[:,1] \u7b2c\u4e00\u7dad\u7686\u662f1\u53bb\u6389\n",
      "# # xMat[:,1] \uff1d matrix([[ 0.067732],[ 0.42781 ]])\n",
      "# # xMat[:,1].flatten() \uff1d matrix([[ 0.067732, 0.42781 ]])\n",
      "# # xMat[:,1].flatten().A[0] \uff1d matrix([0.067732, 0.42781])\n",
      "\n",
      "fig = plt.figure()\n",
      "ax = fig.add_subplot(111)\n",
      "# underfitting\n",
      "ax.plot(xSort[:,1].flatten().A[0],sort(yHat[srtInd].flatten().A[0]))\n",
      "ax.scatter(xMat[:,1].flatten().A[0],yMat.T[:,0].flatten().A[0],c='red')\n",
      "\n",
      "# overfitting\n",
      "yHat2 = lwlrTest(dataMat,dataMat,labelMat,0.003)\n",
      "ax.plot(xSort[:,1].flatten().A[0],yHat2[srtInd],c='white')\n",
      "# better fit \n",
      "yHat3 = lwlrTest(dataMat,dataMat,labelMat,0.01)\n",
      "ax.plot(xSort[:,1].flatten().A[0],yHat3[srtInd],c='green')\n",
      "# \u767d\u7dda\uff1ak=0.003 \u767c\u751foverfitting \u904e\u5ea6\u8026\u5408(\u5c0d\u76ee\u524d\u9810\u6e2c\u6e96\u78ba)\u5c0d\u65bc\u672a\u4f86\u9810\u6e2c\u6578\u64da\u53ef\u80fd\u6703\u767c\u751f\u4e0d\u6e96\u78ba\n",
      "# \u85cd\u7dda\uff1ak=1.0 \u767c\u751funderfitting \u7121\u8026\u5408\u76f4\u7dda\u9810\u6e2c\u4e0d\u6e96\n",
      "# \u5fc5\u9808\u8b93\u7dda\u5b58\u5728\u65bc\u63a5\u8fd1\u6578\u64da\u8d70\u5411\u4f46\u662f\u53c8\u4e0d\u80fd\u592a\u904e\u8cbc\u548c\u6578\u64da \u8abf\u6574k\u503c\n",
      "\n",
      "# \u5728 Locally Weighted Linear Regression\u4e2d \u7528k\u4f86\u8abf\u6574\u8a72\u9ede\u9644\u8fd1\u7684\u7bc4\u570d\n",
      "# k\u8d8a\u5c0f\u4ee3\u8868\u8d8a\u7cbe\u7d30\u5f71\u97ff\u7bc4\u570d\u8f03\u5927 k\u8d8a\u5927\u5247\u5f71\u97ff\u7bc4\u570d\u8f03\u5c0f \u56e0\u6b64k\u592a\u5927\u6703\u767c\u751funderfitting k\u592a\u5c0f\u6703\u767c\u751foverfitting\n",
      "# \u4f46\u6b64\u65b9\u6cd5\u7684\u904b\u7b97\u6210\u672c\u592a\u5927\uff0c\u56e0\u70ba\u5c0d\u6bcf\u500b\u9ede\u5fc5\u9808\u9032\u884cscan\u6574\u500bdataset"
     ],
     "language": "python",
     "metadata": {},
     "outputs": [
      {
       "metadata": {},
       "output_type": "pyout",
       "prompt_number": 12,
       "text": [
        "[<matplotlib.lines.Line2D at 0x1062a3f50>]"
       ]
      },
      {
       "metadata": {},
       "output_type": "display_data",
       "png": "[encoded data removed]",
       "text": [
        "<matplotlib.figure.Figure at 0x1061eca10>"
       ]
      }
     ],
     "prompt_number": 12
    },
    {
     "cell_type": "code",
     "collapsed": false,
     "input": [
      "# fidge regression"
     ],
     "language": "python",
     "metadata": {},
     "outputs": [],
     "prompt_number": 13
    },
    {
     "cell_type": "markdown",
     "metadata": {},
     "source": [
      "### \u72c0\u6cc1\u4e00 \u7576 feature > n(\u6a23\u672c\u6578\u91cf)\uff0cinverse matrix \u4e0d\u5b58\u5728\n",
      "#### \u5f15\u5165 Ridge regression \u89e3\u6c7a\u8a72\u554f\u984c\n",
      "#### \u539f\u5148\n",
      "\\\\[ w =\\({x^Tx})^{-1}{x^Ty}\\\\]\n",
      "#### \u5f15\u5165 lambda\n",
      "\\\\[ w =\\({x^Tx+{\\lambda}I})^{-1}{x^Ty}\\\\]"
     ]
    },
    {
     "cell_type": "code",
     "collapsed": false,
     "input": [
      "def ridgeRegres(xMat,yMat,lam=0.2):\n",
      "    xTx = xMat.T*xMat\n",
      "    denom = xTx + eye(shape(xMat)[1])*lam\n",
      "    if linalg.det(denom) == 0.0:\n",
      "        print (\"This matrix is singular, cannot do inverse\")\n",
      "        return\n",
      "    ws = denom.I * (xMat.T*yMat)\n",
      "    return ws\n",
      "# lambda \u7531 exp(i-10) \u53bb\u8abf\u6574\u7531\u975e\u5e38\u5c0f\u5230\u975e\u5e38\u5927\n",
      "def ridgeTest(xArr,yArr):\n",
      "    xMat = mat(xArr); yMat=mat(yArr).T\n",
      "    yMean = mean(yMat,0)\n",
      "    yMat = yMat - yMean     #to eliminate X0 take mean off of Y\n",
      "    #regularize X's\n",
      "    xMeans = mean(xMat,0)   #calc mean then subtract it off\n",
      "    xVar = var(xMat,0)      #calc variance of Xi then divide by it\n",
      "    xMat = (xMat - xMeans)/xVar\n",
      "    numTestPts = 30\n",
      "    wMat = zeros((numTestPts,shape(xMat)[1]))\n",
      "    for i in range(numTestPts):\n",
      "        ws = ridgeRegres(xMat,yMat,exp(i-10))\n",
      "        wMat[i,:]=ws.T\n",
      "    return wMat"
     ],
     "language": "python",
     "metadata": {},
     "outputs": [],
     "prompt_number": 14
    },
    {
     "cell_type": "code",
     "collapsed": false,
     "input": [
      "# \u8f09\u5165\u65b0\u7684\u6578\u64da\n",
      "fileName = '/Users/wy/Desktop/abalone.txt'\n",
      "dataMat,labelMat = loadDataSet(fileName)"
     ],
     "language": "python",
     "metadata": {},
     "outputs": [],
     "prompt_number": 15
    },
    {
     "cell_type": "code",
     "collapsed": false,
     "input": [
      "dataMat[1:3]"
     ],
     "language": "python",
     "metadata": {},
     "outputs": [
      {
       "metadata": {},
       "output_type": "pyout",
       "prompt_number": 16,
       "text": [
        "[[1.0, 0.35, 0.265, 0.09, 0.2255, 0.0995, 0.0485, 0.07],\n",
        " [-1.0, 0.53, 0.42, 0.135, 0.677, 0.2565, 0.1415, 0.21]]"
       ]
      }
     ],
     "prompt_number": 16
    },
    {
     "cell_type": "code",
     "collapsed": false,
     "input": [
      "labelMat[1:3]"
     ],
     "language": "python",
     "metadata": {},
     "outputs": [
      {
       "metadata": {},
       "output_type": "pyout",
       "prompt_number": 17,
       "text": [
        "[7.0, 9.0]"
       ]
      }
     ],
     "prompt_number": 17
    },
    {
     "cell_type": "code",
     "collapsed": false,
     "input": [
      "# lambda \u7531\u975e\u5e38\u5c0f\u5230\u975e\u5e38\u5927\u5f97\u51fa\u7684w\u670930\u7a2e \u81ea\u884c\u5f9e\u5176\u4e2d\u627e\u65b9\u5dee\u6700\u5c0f\u9078\u70ba\u6700\u9069\u5408\u4e4bmodel\n",
      "ridgeTest(dataMat,labelMat)[1:3]"
     ],
     "language": "python",
     "metadata": {},
     "outputs": [
      {
       "metadata": {},
       "output_type": "pyout",
       "prompt_number": 18,
       "text": [
        "array([[ 0.04304419, -0.02274164,  0.13214088,  0.02075182,  2.22403626,\n",
        "        -0.99895275, -0.11725417,  0.16622934],\n",
        "       [ 0.04304419, -0.02274164,  0.13214088,  0.02075182,  2.22403305,\n",
        "        -0.99895211, -0.117254  ,  0.16622966]])"
       ]
      }
     ],
     "prompt_number": 18
    },
    {
     "cell_type": "code",
     "collapsed": false,
     "input": [
      "ridgeTest(dataMat,labelMat)[28:30]"
     ],
     "language": "python",
     "metadata": {},
     "outputs": [
      {
       "metadata": {},
       "output_type": "pyout",
       "prompt_number": 19,
       "text": [
        "array([[ -8.34109967e-06,   9.05722756e-04,   1.13283336e-03,\n",
        "          2.59497753e-03,   2.15072069e-04,   3.65888384e-04,\n",
        "          8.94835365e-04,   8.86543150e-04],\n",
        "       [ -3.13618246e-06,   3.43488557e-04,   4.29265642e-04,\n",
        "          9.86279863e-04,   8.16188652e-05,   1.39858822e-04,\n",
        "          3.40121256e-04,   3.34847052e-04]])"
       ]
      }
     ],
     "prompt_number": 19
    },
    {
     "cell_type": "markdown",
     "metadata": {},
     "source": [
      "#### \u70ba\u4e86\u8b93data\u53bb\u6389bias\uff0c\u964d\u4f4e\u6975\u7aefdata\u7684\u5f71\u97ff\uff0c\u6240\u4ee5\u5fc5\u9808\u8981data\u9032\u884cnormalization\n",
      "###z-score \u6a19\u6e96\u5316(zero-mean normalization)\n",
      "#####\u4e5f\u53eb\u6a19\u6e96\u5dee\u6a19\u6e96\u5316\uff0c\u7d93\u904e\u8655\u7406\u7684\u6578\u64da\u7b26\u5408\u6a19\u6e96\u5e38\u614b\u5206\u4f48\uff0c\u5373\u5e73\u5747\u503c\u70ba0\uff0c\u6a19\u6e96\u5dee\u70ba1\uff0c\u5176\u51fd\u6578\u70ba\uff1a\n",
      "\\\\[ \\dot{x} =\\frac{  x-u}{ \\sigma }\\\\]  \n",
      "#####\u5176\u4e2d\u03bc\u70ba\u6240\u6709\u6a23\u672c\u6578\u64da\u7684\u5e73\u5747\u503c\uff0c\u03c3\u70ba\u6240\u6709\u6a23\u672c\u6578\u64da\u7684\u6a19\u6e96\u5dee\u3002\n",
      "---\n",
      "### \u72c0\u6cc1\u4e8c \u5982\u4f55\u6e1b\u5c11\u8a08\u7b97\u91cf\uff0c\u53e6\u4e00\u7a2e\u8caa\u5fc3\u6f14\u7b97\u6cd5\n",
      "#### \u4e00\u958b\u59cb\u6240\u6709w\u7684\u6b0a\u91cd\u70ba1\uff0c\u6bcf\u4e00\u6b65\u5c0d\u6bcf\u500bw\u7684\u6b0a\u91cd\u589e\u52a0\u6216\u662f\u6e1b\u5c11\u4e00\u500b\u6b65\u9577\uff0c\u7136\u5f8c\u8a08\u7b97\u65b9\u5dee\uff0c\u65b9\u5dee\u8b8a\u5c11\u5c31\u57f7\u884c\u4e0b\u53bb\u76f4\u5230\u6536\u6582  "
     ]
    },
    {
     "cell_type": "code",
     "collapsed": false,
     "input": [
      "# zero-mean normalization \uff08x-\u5e73\u5747/\u6a19\u6e96\u5dee\uff09\n",
      "def regularize(xMat):#regularize by columns\n",
      "    inMat = xMat.copy()\n",
      "    inMeans = mean(inMat,0)   #calc mean then subtract it off\n",
      "    #\u6a19\u6e96\u5dee The variance is the average of the squared deviations from the mean, i.e., var = mean(abs(x - x.mean())**2).\n",
      "    inVar = var(inMat,0)      #calc variance of Xi then divide by it\n",
      "    inMat = (inMat - inMeans)/inVar\n",
      "    inMat = np.nan_to_num(inMat)\n",
      "    return inMat"
     ],
     "language": "python",
     "metadata": {},
     "outputs": [],
     "prompt_number": 20
    },
    {
     "cell_type": "code",
     "collapsed": false,
     "input": [
      "# \u65b9\u5dee\u8a08\u7b97 \n",
      "def rssError(yArr,yHatArr):\n",
      "    return ((yArr-yHatArr)**2).sum()"
     ],
     "language": "python",
     "metadata": {},
     "outputs": [],
     "prompt_number": 21
    },
    {
     "cell_type": "code",
     "collapsed": false,
     "input": [
      "# Forward stagewise linear regression\n",
      "def stageWise(xArr,yArr,eps=0.01,numIt=100):\n",
      "    xMat = mat(xArr); yMat=mat(yArr).T\n",
      "    yMean = mean(yMat,0)\n",
      "    yMat = yMat - yMean     #can also regularize ys but will get smaller coef\n",
      "    xMat = regularize(xMat)\n",
      "    m,n=shape(xMat)\n",
      "    returnMat = zeros((numIt,n)) \n",
      "    ws = zeros((n,1)); wsTest = ws.copy(); wsMax = ws.copy()\n",
      "    for i in range(numIt):\n",
      "        # print ws.T \u986f\u793a\u884c\u8d70\u7d93\u904e\n",
      "        # print ws.T\n",
      "        #inf \u6b63\u7121\u7aae\n",
      "        lowestError = inf; \n",
      "        # run every feature\n",
      "        for j in range(n):\n",
      "            for sign in [-1,1]:\n",
      "                wsTest = ws.copy()\n",
      "                wsTest[j] += eps*sign\n",
      "                yTest = xMat*wsTest\n",
      "                rssE = rssError(yMat.A,yTest.A)\n",
      "                \n",
      "                if rssE < lowestError:\n",
      "                    lowestError = rssE\n",
      "                    wsMax = wsTest\n",
      "        ws = wsMax.copy()\n",
      "        returnMat[i,:]=ws.T\n",
      "    return returnMat"
     ],
     "language": "python",
     "metadata": {},
     "outputs": [],
     "prompt_number": 22
    },
    {
     "cell_type": "code",
     "collapsed": false,
     "input": [
      "# \u6b65\u9577\u70ba0.001 iteration 5000\n",
      "stageWise_w = stageWise(dataMat,labelMat,0.001,5000)\n",
      "# \u4ee5\u4e0b\u70ba\u884c\u8d70\u7684\u904e\u7a0b\n",
      "# \u6536\u6582\u7d50\u679c w = 0.044 -0.011  0.12   0.022  2.023 -0.963 -0.105  0.187"
     ],
     "language": "python",
     "metadata": {},
     "outputs": [],
     "prompt_number": 23
    },
    {
     "cell_type": "code",
     "collapsed": false,
     "input": [
      "stageWise_w"
     ],
     "language": "python",
     "metadata": {},
     "outputs": [
      {
       "metadata": {},
       "output_type": "pyout",
       "prompt_number": 24,
       "text": [
        "array([[ 0.   ,  0.   ,  0.   , ...,  0.   ,  0.   ,  0.   ],\n",
        "       [ 0.   ,  0.   ,  0.   , ...,  0.   ,  0.   ,  0.   ],\n",
        "       [ 0.   ,  0.   ,  0.   , ...,  0.   ,  0.   ,  0.   ],\n",
        "       ..., \n",
        "       [ 0.043, -0.011,  0.12 , ..., -0.963, -0.105,  0.187],\n",
        "       [ 0.044, -0.011,  0.12 , ..., -0.963, -0.105,  0.187],\n",
        "       [ 0.043, -0.011,  0.12 , ..., -0.963, -0.105,  0.187]])"
       ]
      }
     ],
     "prompt_number": 24
    },
    {
     "cell_type": "code",
     "collapsed": false,
     "input": [
      "def OLS(xArr,yArr):\n",
      "    # \u56e0\u70ba\u8981normalization \u5728\u5916\u9762\u5c31\u8655\u7406\u6210matrix\u5f62\u5f0f\uff0c\u56e0\u6b64\u8a3b\u89e3\u6389list to matrix\u7684\u904e\u7a0b\uff0c\u5176\u9918\u4e0d\u8b8a\n",
      "    # xMat = np.mat(xArr); yMat = np.mat(yArr).T\n",
      "    xTx = xMat.T*xMat\n",
      "    # \u6709\u4e9bmatrix\u4e0d\u53ef\u8f49\u70ba\u9006\u77e9\u9663\n",
      "    if np.linalg.det(xTx) == 0.0:\n",
      "        print (\"This matrix is singular, cannot do inverse\")\n",
      "        return\n",
      "    ws = xTx.I * (xMat.T*yMat)\n",
      "    return ws"
     ],
     "language": "python",
     "metadata": {},
     "outputs": [],
     "prompt_number": 25
    },
    {
     "cell_type": "code",
     "collapsed": false,
     "input": [
      "xMat = mat(dataMat)\n",
      "yMat = mat(labelMat).T\n",
      "xMat = regularize(xMat)\n",
      "yM = mean(yMat,0)\n",
      "yMat = yMat - yM\n",
      "OLS_w = OLS(xMat,yMat)"
     ],
     "language": "python",
     "metadata": {},
     "outputs": [],
     "prompt_number": 26
    },
    {
     "cell_type": "code",
     "collapsed": false,
     "input": [
      "OLS_w"
     ],
     "language": "python",
     "metadata": {},
     "outputs": [
      {
       "metadata": {},
       "output_type": "pyout",
       "prompt_number": 27,
       "text": [
        "matrix([[ 0.0430442 ],\n",
        "        [-0.02274163],\n",
        "        [ 0.13214087],\n",
        "        [ 0.02075182],\n",
        "        [ 2.22403814],\n",
        "        [-0.99895312],\n",
        "        [-0.11725427],\n",
        "        [ 0.16622915]])"
       ]
      }
     ],
     "prompt_number": 27
    },
    {
     "cell_type": "code",
     "collapsed": false,
     "input": [
      "# OLS_w       0.0430442 -0.02274163 0.13214087 0.02075182 2.22403814 -0.99895312 -0.11725427 0.16622915 \n",
      "# stageWise_w 0.044     -0.011      0.12       0.022      2.023      -0.963      -0.105      0.187\n",
      "# \u5169\u8005\u7b97\u51fa\u4f86\u7d50\u679c\u5dee\u4e0d\u591a\n",
      "yHat_OLS_w = xMat*OLS_w\n",
      "# stageWise_w[-1] \u6536\u6582\u4e4bw\n",
      "yHat_stageWise_w = xMat*mat(stageWise_w[-1]).T"
     ],
     "language": "python",
     "metadata": {},
     "outputs": [],
     "prompt_number": 28
    },
    {
     "cell_type": "code",
     "collapsed": false,
     "input": [
      "# \u76f8\u95dc\u4fc2\u6578\u9810\u6e2cy\u548c\u539f\u672cy\u6bd4\u8f03\uff0cOLS \u548c stageWise\u5169\u8005\u7684\u5dee\u8ddd\u4e0d\u5927\n",
      "corrcoef(yHat_OLS_w.flatten().A[0],yMat.flatten().A[0])"
     ],
     "language": "python",
     "metadata": {},
     "outputs": [
      {
       "metadata": {},
       "output_type": "pyout",
       "prompt_number": 29,
       "text": [
        "array([[ 1.        ,  0.72656103],\n",
        "       [ 0.72656103,  1.        ]])"
       ]
      }
     ],
     "prompt_number": 29
    },
    {
     "cell_type": "code",
     "collapsed": false,
     "input": [
      "corrcoef(yHat_stageWise_w.flatten().A[0],yMat.flatten().A[0])"
     ],
     "language": "python",
     "metadata": {},
     "outputs": [
      {
       "metadata": {},
       "output_type": "pyout",
       "prompt_number": 30,
       "text": [
        "array([[ 1.        ,  0.72642036],\n",
        "       [ 0.72642036,  1.        ]])"
       ]
      }
     ],
     "prompt_number": 30
    },
    {
     "cell_type": "code",
     "collapsed": false,
     "input": [
      "# \u4ea4\u53c9\u9a57\u8b49\u7684\u65b9\u6cd5\uff0c\u5f9edata\u4e2d\u9078\u53d690%\u70batrain data 10%\u70batest data \u53bb\u8dd1\u6f14\u7b97\u6cd5\uff08Ridge regression\uff09\n",
      "# \u91cd\u898610\u6b21 \u5f9e\u4e2d\u53d6\u5f97\u65b9\u5dee\u8f03\u5c0f\u7684w\n",
      "def crossValidation(xArr,yArr,numVal=10):\n",
      "    # random 90%->train 10%->test\n",
      "    m = len(yArr)                           \n",
      "    indexList = range(m)\n",
      "    errorMat = zeros((numVal,30))#create error mat 30columns numVal rows\n",
      "    for i in range(numVal):\n",
      "        trainX=[]; trainY=[]\n",
      "        testX = []; testY = []\n",
      "        random.shuffle(indexList)\n",
      "        for j in range(m):#create training set based on first 90% of values in indexList\n",
      "            if j < m*0.9: \n",
      "                trainX.append(xArr[indexList[j]])\n",
      "                trainY.append(yArr[indexList[j]])\n",
      "            else:\n",
      "                testX.append(xArr[indexList[j]])\n",
      "                testY.append(yArr[indexList[j]])\n",
      "        wMat = ridgeTest(trainX,trainY)    #get 30 weight vectors from ridge\n",
      "        for k in range(30):#loop over all of the ridge estimates\n",
      "            matTestX = mat(testX); matTrainX=mat(trainX)\n",
      "            meanTrain = mean(matTrainX,0)\n",
      "            varTrain = var(matTrainX,0)\n",
      "            matTestX = (matTestX-meanTrain)/varTrain #regularize test with training params\n",
      "            yEst = matTestX * mat(wMat[k,:]).T + mean(trainY)#test ridge results and store\n",
      "            errorMat[i,k]=rssError(yEst.T.A,array(testY))\n",
      "            #print errorMat[i,k]\n",
      "    meanErrors = mean(errorMat,0)#calc avg performance of the different ridge weight vectors\n",
      "    minMean = float(min(meanErrors))\n",
      "    bestWeights = wMat[nonzero(meanErrors==minMean)]\n",
      "    return bestWeights"
     ],
     "language": "python",
     "metadata": {},
     "outputs": [],
     "prompt_number": 31
    },
    {
     "cell_type": "code",
     "collapsed": false,
     "input": [
      "# ordinary least squares,Forward stagewise linear regression,Ridge regression(\u52a0\u4e0acrossValidation)\n",
      "# \u4e09\u7a2e\u65b9\u5f0f\u9810\u6e2c\u51fa\u4f86\u7684\u7d50\u679c\u90fd\u6975\u5176\u76f8\u4f3c\n",
      "crossValidation_w = crossValidation(dataMat,labelMat)\n",
      "yHat_crossValidation_w = xMat*crossValidation_w.T"
     ],
     "language": "python",
     "metadata": {},
     "outputs": [],
     "prompt_number": 32
    },
    {
     "cell_type": "code",
     "collapsed": false,
     "input": [
      "corrcoef(yHat_crossValidation_w.flatten().A[0],yMat.flatten().A[0])"
     ],
     "language": "python",
     "metadata": {},
     "outputs": [
      {
       "metadata": {},
       "output_type": "pyout",
       "prompt_number": 33,
       "text": [
        "array([[ 1.        ,  0.72651684],\n",
        "       [ 0.72651684,  1.        ]])"
       ]
      }
     ],
     "prompt_number": 33
    },
    {
     "cell_type": "code",
     "collapsed": false,
     "input": [
      "corrcoef(yHat_OLS_w.flatten().A[0],yMat.flatten().A[0])"
     ],
     "language": "python",
     "metadata": {},
     "outputs": [
      {
       "metadata": {},
       "output_type": "pyout",
       "prompt_number": 34,
       "text": [
        "array([[ 1.        ,  0.72656103],\n",
        "       [ 0.72656103,  1.        ]])"
       ]
      }
     ],
     "prompt_number": 34
    },
    {
     "cell_type": "code",
     "collapsed": false,
     "input": [
      "corrcoef(yHat_stageWise_w.flatten().A[0],yMat.flatten().A[0])"
     ],
     "language": "python",
     "metadata": {},
     "outputs": [
      {
       "metadata": {},
       "output_type": "pyout",
       "prompt_number": 35,
       "text": [
        "array([[ 1.        ,  0.72642036],\n",
        "       [ 0.72642036,  1.        ]])"
       ]
      }
     ],
     "prompt_number": 35
    },
    {
     "cell_type": "code",
     "collapsed": false,
     "input": [
      "# \u53c3\u8003\u4f86\u6e90 Machine Learning in Action"
     ],
     "language": "python",
     "metadata": {},
     "outputs": [],
     "prompt_number": 36
    }
   ],
   "metadata": {}
  }
 ]
}