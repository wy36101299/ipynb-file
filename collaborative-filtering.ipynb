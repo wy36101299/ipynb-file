{
 "metadata": {
  "name": "",
  "signature": "sha256:5fafcfb5bc8b6fda388fba2277bafd18f29cd9777c59c190754455eb838b8996"
 },
 "nbformat": 3,
 "nbformat_minor": 0,
 "worksheets": [
  {
   "cells": [
    {
     "cell_type": "code",
     "collapsed": false,
     "input": [
      "import numpy as np\n",
      "# linalg:Linear algebra"
     ],
     "language": "python",
     "metadata": {},
     "outputs": [],
     "prompt_number": 1
    },
    {
     "cell_type": "code",
     "collapsed": false,
     "input": [
      "# Collaborative filtering PPT \u642d\u914d\u670d\u7528\n",
      "# http://www.slideshare.net/ssuserf88631/collaborative-filtering-45262678"
     ],
     "language": "python",
     "metadata": {},
     "outputs": [],
     "prompt_number": 2
    },
    {
     "cell_type": "code",
     "collapsed": false,
     "input": [
      "#     \u65e5\u5f0f  \u4e2d\u5f0f  \u7f8e\u5f0f  \u6cf0\u5f0f  \u97d3\u5f0f\n",
      "# ---------------------------\n",
      "# sam  2    0    0    4    4\n",
      "#john  5    5    5    3    3\n",
      "# tim  2    4    2    1    2\n",
      "#\u4ee5\u4e0b\u77e9\u9663\u53ef\u770b\u6b64 user \u5c0d item \u9032\u884c\u8a55\u5206\n",
      "#\u85c9\u7531\u5354\u540c\u904e\u6ffe \u731c\u51fa sam\u5c0d\u4e2d\u5f0f\u548c\u7f8e\u5f0f\u7684\u8a55\u50f9\u5f8c\uff0c\u63a8\u85a6sam\u5403\u4ec0\u9ebc"
     ],
     "language": "python",
     "metadata": {},
     "outputs": [],
     "prompt_number": 3
    },
    {
     "cell_type": "code",
     "collapsed": false,
     "input": [
      "def loadItemScore():\n",
      "    tmp = [[4, 4, 0, 2, 2],\n",
      "           [4, 0, 0, 3, 3],\n",
      "           [4, 0, 0, 1, 1],\n",
      "           [1, 1, 1, 2, 0],\n",
      "           [2, 2, 2, 0, 0],\n",
      "           [5, 5, 5, 0, 0],\n",
      "           [1, 1, 1, 0, 0]]\n",
      "    itemScore = np.array(tmp,dtype=np.float)\n",
      "    return itemScore"
     ],
     "language": "python",
     "metadata": {},
     "outputs": [],
     "prompt_number": 4
    },
    {
     "cell_type": "code",
     "collapsed": false,
     "input": [
      "def loadItemScore2():\n",
      "    tmp = [[0, 0, 0, 0, 0, 4, 0, 0, 0, 0, 5],\n",
      "           [0, 0, 0, 3, 0, 4, 0, 0, 0, 0, 3],\n",
      "           [0, 0, 0, 0, 4, 0, 0, 1, 0, 4, 0],\n",
      "           [3, 3, 4, 0, 0, 0, 0, 2, 2, 0, 0],\n",
      "           [5, 4, 5, 0, 0, 0, 0, 5, 5, 0, 0],\n",
      "           [0, 0, 0, 0, 5, 0, 1, 0, 0, 5, 0],\n",
      "           [4, 3, 4, 0, 0, 0, 0, 5, 5, 0, 1],\n",
      "           [0, 0, 0, 4, 0, 4, 0, 0, 0, 0, 4],\n",
      "           [0, 0, 0, 2, 0, 2, 5, 0, 0, 1, 2],\n",
      "           [0, 0, 0, 0, 5, 0, 0, 0, 0, 4, 0],\n",
      "           [1, 0, 0, 0, 0, 0, 0, 1, 2, 0, 0]]\n",
      "    itemScore = np.array(tmp,dtype=np.float)\n",
      "    return itemScore"
     ],
     "language": "python",
     "metadata": {},
     "outputs": [],
     "prompt_number": 5
    },
    {
     "cell_type": "code",
     "collapsed": false,
     "input": [
      "# SVD \u77e9\u9663\u5947\u7570\u503c\u5206\u89e3\n",
      "# \u5229\u7528SVD\u5947\u7570\u503c\u5206\u89e3\u53ef\u4ee5\u5927\u5e45\u6e1b\u4f4e\u77e9\u9663\u7684\u5132\u5b58\u91cf\n",
      "U,sigma,VT  = np.linalg.svd(loadItemScore2())\n",
      "# \u77e9\u9663\u80fd\u91cf\u70ba sum(sigma**2) \u9700\u4fdd\u755990%\u70ba\u5178\u578b\u4f5c\u6cd5\n",
      "sig2 = sigma**2\n",
      "print(\"\u77e9\u9663\u7e3d\u80fd\u91cf\u70ba\uff1a\")\n",
      "print(sum(sig2))\n",
      "print(\"90%\u77e9\u9663\u80fd\u91cf\uff1a\")\n",
      "print(sum(sig2)*0.9)\n",
      "print(\"\u8f49\u63db\u70ba\u4e8c\u7dad\u77e9\u9663\u80fd\u91cf\uff1a\")\n",
      "print(sum(sig2[:2]))\n",
      "print(\"\u8f49\u63db\u4e09\u7dad\u77e9\u9663\u80fd\u91cf\uff1a\")\n",
      "print(sum(sig2[:3]))\n",
      "# \u8f49\u63db\u70ba\u4e8c\u7dad\u80fd\u91cf\u592a\u4f4e\uff0c\u9700\u70ba\u4e09\u7dad svdMatrix\u5247\u70ba\u9084\u539f\u5f8c\u7684\u77e9\u9663\n",
      "Sig4 = np.mat(np.eye(3)*sigma[:3])\n",
      "svdMatrix = U[:,:3] * Sig4 * VT[:3,:]\n",
      "# \u8cc7\u6599\u4f86\u6e90\uff1ahttp://en.wikipedia.org/wiki/Singular_value_decomposition"
     ],
     "language": "python",
     "metadata": {},
     "outputs": [
      {
       "output_type": "stream",
       "stream": "stdout",
       "text": [
        "\u77e9\u9663\u7e3d\u80fd\u91cf\u70ba\uff1a\n",
        "542.0\n",
        "90%\u77e9\u9663\u80fd\u91cf\uff1a\n",
        "487.8\n",
        "\u8f49\u63db\u70ba\u4e8c\u7dad\u77e9\u9663\u80fd\u91cf\uff1a\n",
        "378.829559511\n",
        "\u8f49\u63db\u4e09\u7dad\u77e9\u9663\u80fd\u91cf\uff1a\n",
        "500.500289128\n"
       ]
      }
     ],
     "prompt_number": 6
    },
    {
     "cell_type": "code",
     "collapsed": false,
     "input": [
      "# Euclid Similarity\n",
      "def eulidSim(a,b):\n",
      "    eulid = np.linalg.norm(a-b)\n",
      "    norEulid = 1.0/(1.0 + eulid)\n",
      "    return norEulid"
     ],
     "language": "python",
     "metadata": {},
     "outputs": [],
     "prompt_number": 7
    },
    {
     "cell_type": "code",
     "collapsed": false,
     "input": [
      "# Adjusted Cosine Similarity \n",
      "# \u4e0d\u8d85\u904e3 Similarity \uff1d1\n",
      "def adjCosSim(a,b):\n",
      "    if len(a)<3:\n",
      "        return 1\n",
      "    else:\n",
      "        a = a-a.mean()\n",
      "        b = b-b.mean()\n",
      "        cos = float(np.inner(a,b))/(np.linalg.norm(a)*np.linalg.norm(b))\n",
      "        norCos = 0.5+0.5*cos\n",
      "        return norCos"
     ],
     "language": "python",
     "metadata": {},
     "outputs": [],
     "prompt_number": 8
    },
    {
     "cell_type": "code",
     "collapsed": false,
     "input": [
      "# Cosine Similarity \n",
      "def cosSim(a,b):\n",
      "    cos = float(np.inner(a,b))/(np.linalg.norm(a)*np.linalg.norm(b))\n",
      "    norCos = 0.5+0.5*cos\n",
      "    return norCos"
     ],
     "language": "python",
     "metadata": {},
     "outputs": [],
     "prompt_number": 9
    },
    {
     "cell_type": "code",
     "collapsed": false,
     "input": [
      "# Pearson Correlation Coefficient Similarity\n",
      "# \u4e0d\u8d85\u904e3 Similarity \uff1d1\n",
      "def pearsSim(a,b):\n",
      "    if len(a)<3:\n",
      "        return 1\n",
      "    else:\n",
      "        corcoef = np.corrcoef(a,b,rowvar=0)[0][1]\n",
      "        norCorcoef = 0.5+0.5*corcoef\n",
      "        return norCorcoef\n",
      "# \u8cc7\u6599\u4f86\u6e90\uff1ahttp://en.wikipedia.org/wiki/Pearson_product-moment_correlation_coefficient"
     ],
     "language": "python",
     "metadata": {},
     "outputs": [],
     "prompt_number": 10
    },
    {
     "cell_type": "code",
     "collapsed": false,
     "input": [
      "# Person Correlation Coefficient Similarity \u548c Adjusted Cosine Similarity \u6bd4\u8f03 \n",
      "# Person Correlation Coefficient \u662f\u91dd\u5c0d\u7269\u54c1\u7684\u5e73\u5747 Adjusted Cosine Similarity\u662f\u91dd\u5c0d\u4f7f\u7528\u8005\u8a55\u50f9\u7684\u5e73\u5747\n",
      "# In pearson correlation \u548c cosine \u7684\u6bd4\u8f03 pearson correlation\u6703\u6e1b\u53bb\u5e73\u5747\u9805\uff0c\u964d\u4f4ebias\n",
      "# In adjusted cosine correlation \u4e0d\u540c\u4f7f\u7528\u8005\u53ef\u80fd\u5c0d\u7269\u54c1\u6703\u6709\u8f03\u9ad8\u6216\u662f\u8f03\u4f4e\u7684\u8a55\u5206\u8868\u73fe \u56e0\u6b64\u6e1b\u53bb\u4f7f\u7528\u8005\u5e73\u5747\u7684\u8a55\u5206 e.x.(4,5)(1,2)\u8996\u70ba\u884c\u70ba\u76f8\u4f3c\n",
      "# \u8cc7\u6599\u4f86\u6e90\uff1ahttp://www.cs.carleton.edu/cs_comps/0607/recommend/recommender/itembased.html"
     ],
     "language": "python",
     "metadata": {},
     "outputs": [],
     "prompt_number": 11
    },
    {
     "cell_type": "code",
     "collapsed": false,
     "input": [
      "# \u6982\u5ff5\u85c9\u7531\u4f7f\u7528\u8005\u90fd\u8a55\u5206\u7269\u54c1\u7684\u5206\u6578\u505a\u76f8\u4f3c\u5ea6\u904b\u7b97\uff0c\u5176\u7d50\u679c\uff0a\u8a72\u672a\u8a55\u5206\u4e4b\u7269\u54c1 \u7e3d\u548c\u53d6\u5e73\u5747 \u5373\u70ba\u53ef\u80fd\u7684\u5206\u6578\n",
      "def itemSimRec(itemScore, user, simMethods, item):\n",
      "    # user number : shape(itemScore)[0] item number : shape(itemScore)[1]\n",
      "    n = np.shape(itemScore)[1]\n",
      "    simTotal = 0.0; ratSimTotal = 0.0\n",
      "    for i in range(n):\n",
      "        userItemRating = itemScore[user,i]\n",
      "        # pass norating item\n",
      "        if userItemRating == 0 or i==item:\n",
      "            pass\n",
      "        else:\n",
      "            # find same rating item\n",
      "            sameRatingItem = np.nonzero(np.logical_and(itemScore[:,item] > 0,itemScore[:,i] > 0))[0]\n",
      "            if len(sameRatingItem) == 0: \n",
      "                similarity = 0\n",
      "            else: \n",
      "                similarity = simMethods(itemScore[sameRatingItem,item],itemScore[sameRatingItem,i])\n",
      "#                 print(itemScore[sameRatingItem,item])\n",
      "#                 print(itemScore[sameRatingItem,i])\n",
      "#             print 'the %d and %d similarity is: %f' % (item, i, similarity)\n",
      "            simTotal += similarity\n",
      "            ratSimTotal += similarity * userItemRating\n",
      "    if simTotal == 0: \n",
      "        return 0\n",
      "    else: \n",
      "        return ratSimTotal/simTotal"
     ],
     "language": "python",
     "metadata": {},
     "outputs": [],
     "prompt_number": 12
    },
    {
     "cell_type": "code",
     "collapsed": false,
     "input": [
      "def recommend(itemScore, user, N=3, simMethods=cosSim, estMethod=itemSimRec):\n",
      "    #find unrated items \n",
      "    unratedItems = np.nonzero(itemScore[user,:] ==0)[0]\n",
      "    if len(unratedItems) == 0: \n",
      "        return 'you rated everything'\n",
      "    else:\n",
      "        itemScores = []\n",
      "        for item in unratedItems:\n",
      "            estimatedScore = estMethod(itemScore, user, simMethods, item)\n",
      "            itemScores.append((item, estimatedScore))\n",
      "            recItem = sorted(itemScores, key=lambda x: x[1], reverse=True)[:N]\n",
      "        return recItem"
     ],
     "language": "python",
     "metadata": {},
     "outputs": [],
     "prompt_number": 13
    },
    {
     "cell_type": "code",
     "collapsed": false,
     "input": [
      "# SVD\u5206\u89e3\u518d\u9084\u539f \u53ea\u6709\u6709\u591a\u51faSVD\u7684\u90e8\u5206\uff0c\u5176\u9918\u548citemSimRec\u7b97\u6cd5\u76f8\u540c\n",
      "def svdItemSimRec(itemScore, user, simMethods, item):\n",
      "    n = np.shape(itemScore)[1]\n",
      "    simTotal = 0.0; ratSimTotal = 0.0\n",
      "    U,Sigma,VT = np.linalg.svd(itemScore)\n",
      "    Sig4 = np.mat(np.eye(3)*Sigma[:3]) #arrange Sig4 into a diagonal matrix\n",
      "    xformedItems = U[:,:3] * Sig4 * VT[:3,:]  #create transformed items    \n",
      "    for i in range(n):\n",
      "        userItemRating = itemScore[user,i]\n",
      "        # pass norating item\n",
      "        if userItemRating == 0 or i==item:\n",
      "            pass\n",
      "        else:\n",
      "            # find same rating item\n",
      "            sameRatingItem = np.nonzero(np.logical_and(itemScore[:,item] > 0,itemScore[:,i] > 0))[0]\n",
      "            if len(sameRatingItem) == 0: \n",
      "                similarity = 0\n",
      "            else: \n",
      "                similarity = simMethods(itemScore[sameRatingItem,item],itemScore[sameRatingItem,i])\n",
      "#                 print(itemScore[sameRatingItem,item])\n",
      "#                 print(itemScore[sameRatingItem,i])\n",
      "#             print 'the %d and %d similarity is: %f' % (item, i, similarity)\n",
      "            simTotal += similarity\n",
      "            ratSimTotal += similarity * userItemRating\n",
      "    if simTotal == 0: \n",
      "        return 0\n",
      "    else: \n",
      "        return ratSimTotal/simTotal"
     ],
     "language": "python",
     "metadata": {},
     "outputs": [],
     "prompt_number": 14
    },
    {
     "cell_type": "code",
     "collapsed": false,
     "input": [
      "# [(4, 5.0), (9, 5.0), (10, 4.7297297297297298)]\n",
      "# \u7269\u54c14 \u5206\u65785 \u7269\u54c19 \u5206\u65785 \u7269\u54c110 \u5206\u65784.7 \u4f9d\u5e8f\u63a8\u85a6\n",
      "print(\"estMethod=itemSimRec\")\n",
      "print(\"--------------------\")\n",
      "print(\"simMethods=eulidSim\")\n",
      "print(recommend(loadItemScore2(),4,simMethods=eulidSim,estMethod=itemSimRec))\n",
      "print(\"simMethods=cosSim\")\n",
      "print(recommend(loadItemScore2(),4,simMethods=cosSim,estMethod=itemSimRec))\n",
      "print(\"simMethods=adjCosSim\")\n",
      "print(recommend(loadItemScore2(),4,simMethods=adjCosSim,estMethod=itemSimRec))\n",
      "print(\"simMethods=pearsSim\")\n",
      "print(recommend(loadItemScore2(),4,simMethods=pearsSim,estMethod=itemSimRec))"
     ],
     "language": "python",
     "metadata": {},
     "outputs": [
      {
       "output_type": "stream",
       "stream": "stdout",
       "text": [
        "estMethod=itemSimRec\n",
        "--------------------\n",
        "simMethods=eulidSim\n",
        "[(4, 5.0), (9, 5.0), (10, 4.7297297297297298)]\n",
        "simMethods=cosSim\n",
        "[(4, 5.0), (9, 5.0), (10, 4.7999999999999998)]\n",
        "simMethods=adjCosSim\n",
        "[(4, 5.0), (9, 5.0), (10, 4.7999999999999998)]\n",
        "simMethods=pearsSim\n",
        "[(4, 5.0), (9, 5.0), (10, 4.7999999999999998)]\n"
       ]
      }
     ],
     "prompt_number": 15
    },
    {
     "cell_type": "code",
     "collapsed": false,
     "input": [
      "# \u7167\u7406\u8aaa\u7d93\u904eSVD\u5206\u89e3\u5f8c\uff0c\u53ef\u5927\u5e45\u6e1b\u5c11\u5132\u5b58\u91cf\uff0c\u4f46\u5c0d\u65bc\u77e9\u9663\u9084\u539f\u53ef\u80fd\u6703\u5931\u771f\uff0c\u6545\u6703\u6bd4itemSimRec\u4e2d\u6709\u66f4\u591a\u8aa4\u5dee\u5b58\u5728\n",
      "print(\"estMethod=svdItemSimRec\")\n",
      "print(\"-----------------------\")\n",
      "print(\"simMethods=eulidSim\")\n",
      "print(recommend(loadItemScore2(),4,simMethods=eulidSim,estMethod=svdItemSimRec))\n",
      "print(\"simMethods=cosSim\")\n",
      "print(recommend(loadItemScore2(),4,simMethods=cosSim,estMethod=svdItemSimRec))\n",
      "print(\"simMethods=adjCosSim\")\n",
      "print(recommend(loadItemScore2(),4,simMethods=adjCosSim,estMethod=svdItemSimRec))\n",
      "print(\"simMethods=pearsSim\")\n",
      "print(recommend(loadItemScore2(),4,simMethods=pearsSim,estMethod=svdItemSimRec))"
     ],
     "language": "python",
     "metadata": {},
     "outputs": [
      {
       "output_type": "stream",
       "stream": "stdout",
       "text": [
        "estMethod=svdItemSimRec\n",
        "-----------------------\n",
        "simMethods=eulidSim\n",
        "[(4, 5.0), (9, 5.0), (10, 4.7297297297297298)]\n",
        "simMethods=cosSim\n",
        "[(4, 5.0), (9, 5.0), (10, 4.7999999999999998)]\n",
        "simMethods=adjCosSim\n",
        "[(4, 5.0), (9, 5.0), (10, 4.7999999999999998)]\n",
        "simMethods=pearsSim\n",
        "[(4, 5.0), (9, 5.0), (10, 4.7999999999999998)]\n"
       ]
      }
     ],
     "prompt_number": 16
    },
    {
     "cell_type": "code",
     "collapsed": false,
     "input": [
      "# \u53c3\u8003\u4f86\u6e90 Machine Learning in Action"
     ],
     "language": "python",
     "metadata": {},
     "outputs": [],
     "prompt_number": 17
    }
   ],
   "metadata": {}
  }
 ]
}