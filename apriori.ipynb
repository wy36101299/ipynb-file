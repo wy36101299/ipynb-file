{
 "metadata": {
  "name": "",
  "signature": "sha256:1e04a3d07c21813d23bb3c5e364857cf3461b15f31372eb2f46c7598f456b85f"
 },
 "nbformat": 3,
 "nbformat_minor": 0,
 "worksheets": [
  {
   "cells": [
    {
     "cell_type": "code",
     "collapsed": false,
     "input": [
      "import json\n",
      "import datetime\n",
      "import numpy as np"
     ],
     "language": "python",
     "metadata": {},
     "outputs": [],
     "prompt_number": 115
    },
    {
     "cell_type": "code",
     "collapsed": false,
     "input": [
      "# 1,3,4\n",
      "# 2,3,5\n",
      "# 1,2,3,5\n",
      "# 2,5\n",
      "def loadDataSet():\n",
      "    return [[1, 3, 4], [2, 3, 5], [1, 2, 3, 5], [2, 5]]\n",
      "dataSet = loadDataSet()"
     ],
     "language": "python",
     "metadata": {},
     "outputs": [],
     "prompt_number": 116
    },
    {
     "cell_type": "code",
     "collapsed": false,
     "input": [
      "dataSet"
     ],
     "language": "python",
     "metadata": {},
     "outputs": [
      {
       "metadata": {},
       "output_type": "pyout",
       "prompt_number": 117,
       "text": [
        "[[1, 3, 4], [2, 3, 5], [1, 2, 3, 5], [2, 5]]"
       ]
      }
     ],
     "prompt_number": 117
    },
    {
     "cell_type": "code",
     "collapsed": false,
     "input": [
      "# \u627e\u51fa\u6240\u6709dataset\u4e2d\u7684item\u96c6\u5408\n",
      "# frozenset \u548c set \u6700\u5927\u7684\u5dee\u7570\u5728\u65bc\u524d\u8005\u4e0d\u53ef\u8b8a,\u5f8c\u8005\u53ef\u8b8a,\u53ef\u7576\u4f5cdict\u7684key\n",
      "def createC1(dataSet):\n",
      "    C1 = []\n",
      "    for transaction in dataSet:\n",
      "        for item in transaction:\n",
      "            if not [item] in C1:\n",
      "                C1.append([item])    \n",
      "    C1.sort()\n",
      "#     print(C1)\n",
      "    return map(frozenset, C1)#use frozen set so we\n",
      "                            #can use it as a key in a dict "
     ],
     "language": "python",
     "metadata": {},
     "outputs": [],
     "prompt_number": 118
    },
    {
     "cell_type": "code",
     "collapsed": false,
     "input": [
      "c1 = createC1(dataSet)"
     ],
     "language": "python",
     "metadata": {},
     "outputs": [],
     "prompt_number": 119
    },
    {
     "cell_type": "code",
     "collapsed": false,
     "input": [
      "c1"
     ],
     "language": "python",
     "metadata": {},
     "outputs": [
      {
       "metadata": {},
       "output_type": "pyout",
       "prompt_number": 120,
       "text": [
        "[frozenset({1}),\n",
        " frozenset({2}),\n",
        " frozenset({3}),\n",
        " frozenset({4}),\n",
        " frozenset({5})]"
       ]
      }
     ],
     "prompt_number": 120
    },
    {
     "cell_type": "code",
     "collapsed": false,
     "input": [
      "# scan dataset \u8f38\u51fa\u9ad8\u65bcminSupport\u7684item\n",
      "# dict supportData \u5132\u5b58 item support value\n",
      "def scanD(D, Ck, minSupport):\n",
      "    ssCnt = {}\n",
      "    # \u7b97\u51fa\u6bcf\u4e00\u500bitem\u7e3d\u51fa\u73fe\u6b21\u6578\n",
      "    for tid in D:\n",
      "        for can in Ck:\n",
      "            if can.issubset(tid):\n",
      "                if not ssCnt.has_key(can): ssCnt[can]=1\n",
      "                else: ssCnt[can] += 1\n",
      "    numItems = float(len(D))\n",
      "    retList = []\n",
      "    supportData = {}\n",
      "# retList \u5132\u5b58 >\u8f38\u51fa\u9ad8\u65bcminSupport\u7684items\u96c6\u5408\n",
      "    for key in ssCnt:\n",
      "        support = ssCnt[key]/numItems\n",
      "        if support >= minSupport:\n",
      "            # retList.insert(0,key) \u5f9e\u9996\u63d2\u5165\n",
      "            # retList.append(key) \u5f9e\u5c3e\u63d2\u5165\n",
      "            retList.append(key)\n",
      "        supportData[key] = support\n",
      "    return retList, supportData , ssCnt"
     ],
     "language": "python",
     "metadata": {},
     "outputs": [],
     "prompt_number": 121
    },
    {
     "cell_type": "code",
     "collapsed": false,
     "input": [
      "retList, supportData , ssCnt = scanD(dataSet, c1, 0.5)"
     ],
     "language": "python",
     "metadata": {},
     "outputs": [],
     "prompt_number": 122
    },
    {
     "cell_type": "code",
     "collapsed": false,
     "input": [
      "# item4\u4f4e\u65bc0.5\n",
      "retList"
     ],
     "language": "python",
     "metadata": {},
     "outputs": [
      {
       "metadata": {},
       "output_type": "pyout",
       "prompt_number": 123,
       "text": [
        "[frozenset({5}), frozenset({2}), frozenset({3}), frozenset({1})]"
       ]
      }
     ],
     "prompt_number": 123
    },
    {
     "cell_type": "code",
     "collapsed": false,
     "input": [
      "supportData"
     ],
     "language": "python",
     "metadata": {},
     "outputs": [
      {
       "metadata": {},
       "output_type": "pyout",
       "prompt_number": 124,
       "text": [
        "{frozenset({4}): 0.25,\n",
        " frozenset({5}): 0.75,\n",
        " frozenset({2}): 0.75,\n",
        " frozenset({3}): 0.75,\n",
        " frozenset({1}): 0.5}"
       ]
      }
     ],
     "prompt_number": 124
    },
    {
     "cell_type": "code",
     "collapsed": false,
     "input": [
      "# \u5f9e\u5c0f\u96c6\u5408\u805a\u5408\u6210\u5927\u96c6\u5408 \u5169\u500b\u5169\u500b\u805a\u5408\n",
      "def aprioriGen(Lk, k): #creates Ck\n",
      "    retList = []\n",
      "    lenLk = len(Lk)\n",
      "    # \u6307\u91dd\u79fb\u52d5\u5c0b\u627e\u96c6\u5408  i,j\u5404\u5225\u79fb\u52d5\n",
      "    for i in range(lenLk):\n",
      "        for j in range(i+1, lenLk): \n",
      "            L1 = list(Lk[i])[:k-2]; L2 = list(Lk[j])[:k-2]\n",
      "            # \u5148\u6392\u5e8f\u592a\u7cbe\u5999\u4e86 \u53ef\u4ee5\u907f\u514d\u91cd\u8986\u7684 \u5c4c\u554a\uff5e\n",
      "            L1.sort(); L2.sort()\n",
      "            if L1==L2: #if first k-2 elements are equal\n",
      "                retList.append(Lk[i] | Lk[j]) #set union\n",
      "    return retList\n",
      "\n",
      "# \u8f38\u5165dataset \u5f9e\u5c0f\u96c6\u5408\u805a\u5408\u5230\u5927\u96c6\u5408\uff0c\u8f38\u51fa\u9ad8\u65bcminSupport\u7684item\n",
      "def apriori(dataSet, minSupport = 0.5):\n",
      "    C1 = createC1(dataSet)\n",
      "    D = map(set, dataSet)\n",
      "    L1, supportData ,ssCnt= scanD(D, C1, minSupport)\n",
      "    L = [L1]\n",
      "    k = 2\n",
      "    while (len(L[k-2]) > 0):\n",
      "        Ck = aprioriGen(L[k-2], k)\n",
      "        Lk, supK ,ssCnt = scanD(D, Ck, minSupport)#scan DB to get Lk\n",
      "        supportData.update(supK)\n",
      "        L.append(Lk)\n",
      "        k += 1\n",
      "    return L, supportData"
     ],
     "language": "python",
     "metadata": {},
     "outputs": [],
     "prompt_number": 127
    },
    {
     "cell_type": "code",
     "collapsed": false,
     "input": [
      "L,supportData = apriori(dataSet,0.5)"
     ],
     "language": "python",
     "metadata": {},
     "outputs": [],
     "prompt_number": 128
    },
    {
     "cell_type": "code",
     "collapsed": false,
     "input": [
      "L"
     ],
     "language": "python",
     "metadata": {},
     "outputs": [
      {
       "metadata": {},
       "output_type": "pyout",
       "prompt_number": 129,
       "text": [
        "[[frozenset({5}), frozenset({2}), frozenset({3}), frozenset({1})],\n",
        " [frozenset({3, 5}), frozenset({2, 3}), frozenset({2, 5}), frozenset({1, 3})],\n",
        " [frozenset({2, 3, 5})],\n",
        " []]"
       ]
      }
     ],
     "prompt_number": 129
    },
    {
     "cell_type": "code",
     "collapsed": false,
     "input": [
      "supportData"
     ],
     "language": "python",
     "metadata": {},
     "outputs": [
      {
       "metadata": {},
       "output_type": "pyout",
       "prompt_number": 131,
       "text": [
        "{frozenset({5}): 0.75,\n",
        " frozenset({3}): 0.75,\n",
        " frozenset({2, 3, 5}): 0.5,\n",
        " frozenset({1, 2}): 0.25,\n",
        " frozenset({1, 5}): 0.25,\n",
        " frozenset({3, 5}): 0.5,\n",
        " frozenset({4}): 0.25,\n",
        " frozenset({2, 3}): 0.5,\n",
        " frozenset({2, 5}): 0.75,\n",
        " frozenset({1}): 0.5,\n",
        " frozenset({1, 3}): 0.5,\n",
        " frozenset({2}): 0.75}"
       ]
      }
     ],
     "prompt_number": 131
    },
    {
     "cell_type": "code",
     "collapsed": false,
     "input": [
      "# \u7b97\u51faRule\n",
      "def generateRules(L, supportData, minConf=0.7):  #supportData is a dict coming from scanD\n",
      "    bigRuleList = []\n",
      "    # L[0] \u96c6\u5408\u53ea\u6709\u4e00\u500bitem frozenset([5]) L[1]\u96c6\u5408\u6709\u5169\u500bitem frozenset([2, 5])\n",
      "    for i in range(1, len(L)):#only get the sets with two or more items\n",
      "        for freqSet in L[i]:\n",
      "            H1 = [frozenset([item]) for item in freqSet]\n",
      "            if (i > 1):\n",
      "                rulesFromConseq(freqSet, H1, supportData, bigRuleList, minConf)\n",
      "            else:\n",
      "                # \u8a08\u7b97 confidence\n",
      "                calcConf(freqSet, H1, supportData, bigRuleList, minConf)\n",
      "    return bigRuleList         \n",
      "\n",
      "def calcConf(freqSet, H, supportData, brl, minConf=0.7):\n",
      "    prunedH = [] #create new list to return\n",
      "    for conseq in H:\n",
      "        # freqSet U conseq / freqSet - conseq     \u8c46\u5976\uff1afreqSet - conseq \u9752\u83dc\uff1aconseq \u8c46\u5976U\u9752\u83dc\uff1afreqSet\n",
      "        # \u8cb7\u4e86\u8c46\u5976\u548c\u9752\u83dc \u8c46\u5976 -> \u9752\u83dc \u8cb7\u4e86\u8c46\u5976\u4e4b\u5f8c\uff0c\u518d\u8cb7\u9752\u83dc\u7684\u6a5f\u7387\n",
      "        conf = supportData[freqSet]/supportData[freqSet-conseq] #calc confidence\n",
      "        if conf >= minConf: \n",
      "            print freqSet-conseq,'-->',conseq,'conf:',conf\n",
      "            brl.append((freqSet-conseq, conseq, conf))\n",
      "            prunedH.append(conseq)\n",
      "    return prunedH\n",
      "\n",
      "def rulesFromConseq(freqSet, H, supportData, brl, minConf=0.7):\n",
      "    # \u6bcf\u4e00\u500b\u96c6\u5408\u4e2d\u7684\u7269\u54c1\u6578\n",
      "    m = len(H[0])\n",
      "    if (len(freqSet) > (m + 1)): #try further merging\n",
      "        Hmp1 = aprioriGen(H, m+1)#create Hm+1 new candidates\n",
      "        Hmp1 = calcConf(freqSet, Hmp1, supportData, brl, minConf)\n",
      "        if (len(Hmp1) > 1):    #need at least two sets to merge\n",
      "            rulesFromConseq(freqSet, Hmp1, supportData, brl, minConf)"
     ],
     "language": "python",
     "metadata": {},
     "outputs": [],
     "prompt_number": 133
    },
    {
     "cell_type": "code",
     "collapsed": false,
     "input": [
      "rule = generateRules(L,supportData,0.7)"
     ],
     "language": "python",
     "metadata": {},
     "outputs": [
      {
       "output_type": "stream",
       "stream": "stdout",
       "text": [
        "frozenset([5]) --> frozenset([2]) conf: 1.0\n",
        "frozenset([2]) --> frozenset([5]) conf: 1.0\n",
        "frozenset([1]) --> frozenset([3]) conf: 1.0\n"
       ]
      }
     ],
     "prompt_number": 134
    },
    {
     "cell_type": "code",
     "collapsed": false,
     "input": [
      "rule"
     ],
     "language": "python",
     "metadata": {},
     "outputs": [
      {
       "metadata": {},
       "output_type": "pyout",
       "prompt_number": 135,
       "text": [
        "[(frozenset({5}), frozenset({2}), 1.0),\n",
        " (frozenset({2}), frozenset({5}), 1.0),\n",
        " (frozenset({1}), frozenset({3}), 1.0)]"
       ]
      }
     ],
     "prompt_number": 135
    },
    {
     "cell_type": "code",
     "collapsed": false,
     "input": [
      "# data source : retail.dat 4.2Mb"
     ],
     "language": "python",
     "metadata": {},
     "outputs": [],
     "prompt_number": 136
    },
    {
     "cell_type": "code",
     "collapsed": false,
     "input": [
      "datapath = '/Users/wy/Desktop/retail.dat'\n",
      "dataList=[]\n",
      "with open (datapath,'r') as f:\n",
      "    lines = f.readlines()\n",
      "for index, line in enumerate(lines):\n",
      "    line=line.strip()\n",
      "    listLine = map(int,line.split(' '))\n",
      "    dataList.append(listLine)"
     ],
     "language": "python",
     "metadata": {},
     "outputs": [],
     "prompt_number": 137
    },
    {
     "cell_type": "code",
     "collapsed": false,
     "input": [
      "start = datetime.datetime.now()\n",
      "\n",
      "L,supportData = apriori(dataList,0.1)\n",
      "rule = generateRules(L,supportData,0.2)\n",
      "\n",
      "end = datetime.datetime.now()\n",
      "runtime = end - start"
     ],
     "language": "python",
     "metadata": {},
     "outputs": [
      {
       "output_type": "stream",
       "stream": "stdout",
       "text": [
        "frozenset([41]) --> frozenset([48]) conf: 0.603412512546\n",
        "frozenset([48]) --> frozenset([41]) conf: 0.214026343895\n",
        "frozenset([39]) --> frozenset([38]) conf: 0.204144055254\n",
        "frozenset([38]) --> frozenset([39]) conf: 0.663311105412\n",
        "frozenset([39]) --> frozenset([48]) conf: 0.575076467686\n",
        "frozenset([48]) --> frozenset([39]) conf: 0.691634033464\n",
        "frozenset([39]) --> frozenset([41]) conf: 0.225239269857\n",
        "frozenset([41]) --> frozenset([39]) conf: 0.763733690197\n"
       ]
      }
     ],
     "prompt_number": 138
    },
    {
     "cell_type": "code",
     "collapsed": false,
     "input": [
      "runtime"
     ],
     "language": "python",
     "metadata": {},
     "outputs": [
      {
       "metadata": {},
       "output_type": "pyout",
       "prompt_number": 139,
       "text": [
        "datetime.timedelta(0, 321, 831933)"
       ]
      }
     ],
     "prompt_number": 139
    },
    {
     "cell_type": "code",
     "collapsed": false,
     "input": [
      "def store(data,path):\n",
      "    with open(path,'w') as f:\n",
      "        f.write(data)"
     ],
     "language": "python",
     "metadata": {},
     "outputs": [],
     "prompt_number": 152
    },
    {
     "cell_type": "code",
     "collapsed": false,
     "input": [
      "freItem_list = []\n",
      "for tmp in L:\n",
      "    if len(tmp) !=0:\n",
      "        for item in tmp:\n",
      "            freItem_list.append(list(item))\n",
      "freItem_json = json.dumps(freItem_list,indent=4)\n",
      "store(freItem_json,'/Users/wy/Desktop/freItem.json')"
     ],
     "language": "python",
     "metadata": {},
     "outputs": [],
     "prompt_number": 153
    },
    {
     "cell_type": "code",
     "collapsed": false,
     "input": [
      "freItem_list"
     ],
     "language": "python",
     "metadata": {},
     "outputs": [
      {
       "metadata": {},
       "output_type": "pyout",
       "prompt_number": 158,
       "text": [
        "[[48], [38], [32], [39], [41], [48, 41], [38, 39], [48, 39], [41, 39]]"
       ]
      }
     ],
     "prompt_number": 158
    },
    {
     "cell_type": "code",
     "collapsed": false,
     "input": [
      "supportData_list = []\n",
      "for key, value in supportData.iteritems():\n",
      "    s = str(list(key))+':'+str(value)\n",
      "    supportData_list.append(s)\n",
      "supportData_list.sort()\n",
      "supportData_json = json.dumps(supportData_list,indent=4)\n",
      "store(supportData_json,'/Users/wy/Desktop/supportData.json')"
     ],
     "language": "python",
     "metadata": {},
     "outputs": [],
     "prompt_number": 155
    },
    {
     "cell_type": "code",
     "collapsed": false,
     "input": [
      "# \u524d10\u7b46\n",
      "supportData_list[:10]"
     ],
     "language": "python",
     "metadata": {},
     "outputs": [
      {
       "metadata": {},
       "output_type": "pyout",
       "prompt_number": 160,
       "text": [
        "['[0]:0.00200766770264',\n",
        " '[10000]:2.26855107643e-05',\n",
        " '[10001]:1.13427553821e-05',\n",
        " '[10002]:4.53710215285e-05',\n",
        " '[10003]:3.40282661464e-05',\n",
        " '[10004]:7.9399287675e-05',\n",
        " '[10005]:0.000113427553821',\n",
        " '[10006]:6.80565322928e-05',\n",
        " '[10007]:1.13427553821e-05',\n",
        " '[10008]:0.000238197863025']"
       ]
      }
     ],
     "prompt_number": 160
    },
    {
     "cell_type": "code",
     "collapsed": false,
     "input": [
      "strongRule = []\n",
      "for tmp in rule:\n",
      "    s = str(list(tmp[0])[0])+'-->'+str(list(tmp[1])[0])+'---'+str(tmp[2])\n",
      "    strongRule.append(s)\n",
      "strongRule_json = json.dumps(strongRule,indent=4)\n",
      "store(strongRule_json,'/Users/wy/Desktop/strongRule.json')"
     ],
     "language": "python",
     "metadata": {},
     "outputs": [],
     "prompt_number": 156
    },
    {
     "cell_type": "code",
     "collapsed": false,
     "input": [
      "strongRule"
     ],
     "language": "python",
     "metadata": {},
     "outputs": [
      {
       "metadata": {},
       "output_type": "pyout",
       "prompt_number": 161,
       "text": [
        "['41-->48---0.603412512546',\n",
        " '48-->41---0.214026343895',\n",
        " '39-->38---0.204144055254',\n",
        " '38-->39---0.663311105412',\n",
        " '39-->48---0.575076467686',\n",
        " '48-->39---0.691634033464',\n",
        " '39-->41---0.225239269857',\n",
        " '41-->39---0.763733690197']"
       ]
      }
     ],
     "prompt_number": 161
    },
    {
     "cell_type": "code",
     "collapsed": false,
     "input": [
      "# reference Machine Learning in action"
     ],
     "language": "python",
     "metadata": {},
     "outputs": []
    }
   ],
   "metadata": {}
  }
 ]
}