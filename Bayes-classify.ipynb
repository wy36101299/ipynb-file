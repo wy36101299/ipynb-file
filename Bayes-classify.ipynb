{
 "metadata": {
  "name": "",
  "signature": "sha256:d9650ea1fa15477dfe23964e1b9782b4b108fb9664a2498d03d053957b9b4cf2"
 },
 "nbformat": 3,
 "nbformat_minor": 0,
 "worksheets": [
  {
   "cells": [
    {
     "cell_type": "code",
     "collapsed": false,
     "input": [
      "import math\n",
      "import numpy as np"
     ],
     "language": "python",
     "metadata": {},
     "outputs": [],
     "prompt_number": 1
    },
    {
     "cell_type": "code",
     "collapsed": false,
     "input": [
      "# \u95dc\u9375\u5b57\u6240\u5c6c\u5206\u985e      P     P    S    S     T    T\n",
      "# \u65b0\u805e       \u5206\u985e  \u8cd3\u58eb  \u5bf6\u99ac  \u7c43\u7403  \u8def\u8dd1  \u624b\u6a5f  App\n",
      "# ----------------------------------------------\n",
      "# C63\u767c\u8868\u6703    P    15   25    0     5    8    3\n",
      "# BMW i8      P    35   40    1     3    3    2\n",
      "# \u6797\u66f8\u8c6a       S     5    0   35    50    0    0\n",
      "# \u6e56\u4eba\u968a       S     1    5   32    15    0    0\n",
      "# Android 5.0 T    10    5    7     0    2   30\n",
      "# iPhone6     T     5    5    5    15    8   32"
     ],
     "language": "python",
     "metadata": {},
     "outputs": [],
     "prompt_number": 2
    },
    {
     "cell_type": "code",
     "collapsed": false,
     "input": [
      "dataSet=[]\n",
      "label=[]\n",
      "lines =[['p',15,25,0,5,8,3],['p',35,40,1,3,3,2],['s',5,0,35,50,0,0],\n",
      "        ['s',1,5,32,15,0,0],['t',10,5,7,0,2,30],['t',5,5,5,15,8,32]]\n",
      "for index, line in enumerate(lines):\n",
      "    label.append(line[0])\n",
      "    dimension  = len(line[1:])\n",
      "    dataSet.append(map(float,line[1:]))\n",
      "dataSet = np.array(dataSet)"
     ],
     "language": "python",
     "metadata": {},
     "outputs": [],
     "prompt_number": 3
    },
    {
     "cell_type": "code",
     "collapsed": false,
     "input": [
      "label"
     ],
     "language": "python",
     "metadata": {},
     "outputs": [
      {
       "metadata": {},
       "output_type": "pyout",
       "prompt_number": 4,
       "text": [
        "['p', 'p', 's', 's', 't', 't']"
       ]
      }
     ],
     "prompt_number": 4
    },
    {
     "cell_type": "code",
     "collapsed": false,
     "input": [
      "dataSet"
     ],
     "language": "python",
     "metadata": {},
     "outputs": [
      {
       "metadata": {},
       "output_type": "pyout",
       "prompt_number": 5,
       "text": [
        "array([[ 15.,  25.,   0.,   5.,   8.,   3.],\n",
        "       [ 35.,  40.,   1.,   3.,   3.,   2.],\n",
        "       [  5.,   0.,  35.,  50.,   0.,   0.],\n",
        "       [  1.,   5.,  32.,  15.,   0.,   0.],\n",
        "       [ 10.,   5.,   7.,   0.,   2.,  30.],\n",
        "       [  5.,   5.,   5.,  15.,   8.,  32.]])"
       ]
      }
     ],
     "prompt_number": 5
    },
    {
     "cell_type": "code",
     "collapsed": false,
     "input": [
      "def Bayestrain(classifyRange):\n",
      "    alltrainSample = dataSet.sum()\n",
      "    classifyProbabilityList = []\n",
      "    # P(\u5206\u985e) = \u8a72\u5206\u985e\u4e0b\u5b57\u8a5e\u983b\u7387\u7e3d\u548c / \u6240\u6709\u8a13\u7df4\u96c6\u5408\u5b57\u8a5e\u983b\u7387\u7e3d\u548c\n",
      "    for key, value in classifyRange.iteritems() :\n",
      "        tmp = dataSet[:, value[0] : value[1] ].sum()/alltrainSample\n",
      "        classifyProbabilityList.append(tmp)\n",
      "    # P(\u7279\u5fb5\u95dc\u9375\u5b57|\u5206\u985e) = (\u8a72\u5206\u985e\u4e0b\u3001\u8a72\u95dc\u9375\u5b57\u5b57\u8a5e\u983b\u7387\u7e3d\u548c + 1) / (\u8a72\u5206\u985e\u4e0b\u6240\u6709\u95dc\u9375\u5b57\u5b57\u8a5e\u983b\u7387\u7e3d\u548c + \u8a13\u7df4\u96c6\u5408\u95dc\u9375\u5b57\u500b\u6578)\n",
      "    featureProbabilityList=[]\n",
      "    for key, value in classifyRange.iteritems() :\n",
      "        t = []\n",
      "        for a in range(dimension):\n",
      "            featureProbability = (dataSet[value[0]:value[1]][:,a].sum()+1)/(dataSet[value[0]:value[1]].sum()+dimension)\n",
      "            t.append(featureProbability)\n",
      "        featureProbabilityList.append(t)\n",
      "    return classifyProbabilityList,featureProbabilityList"
     ],
     "language": "python",
     "metadata": {},
     "outputs": [],
     "prompt_number": 6
    },
    {
     "cell_type": "code",
     "collapsed": false,
     "input": [
      "def Bayespredict(classifyProbabilityList,featureProbabilityList,classifyRange,predictList):\n",
      "    tmp = []\n",
      "    for key, value in classifyRange.iteritems() :\n",
      "        tmp.append(key)\n",
      "    compareList = []\n",
      "    for c,fList in zip(classifyProbabilityList,featureProbabilityList):\n",
      "        c = math.log10(c)\n",
      "        # \u53d6 log \u907f\u514d\u5411\u4e0b\u6ea2\u4f4d\u60c5\u6cc1\u767c\u751f\n",
      "        for p,f in zip(predictList,fList):\n",
      "            c += (p*math.log10(f))\n",
      "        compareList.append(c)\n",
      "    predict = tmp [compareList.index(max(compareList))]\n",
      "    return predict"
     ],
     "language": "python",
     "metadata": {},
     "outputs": [],
     "prompt_number": 7
    },
    {
     "cell_type": "code",
     "collapsed": false,
     "input": [
      "# 2,4\u70ba\u9580\u6abb\u503c-\u95dc\u9375\u5b57\u5206\u985ep [:2] \u95dc\u9375\u5b57\u5206\u985es [2:4] \u95dc\u9375\u5b57\u5206\u985et [4:dimension]\n",
      "classifyRange = {'p':[0,2],'s':[2,4],'t':[4,6]}\n",
      "classifyProbabilityList , featureProbabilityList = Bayestrain(classifyRange)"
     ],
     "language": "python",
     "metadata": {},
     "outputs": [],
     "prompt_number": 8
    },
    {
     "cell_type": "code",
     "collapsed": false,
     "input": [
      "# classifyProbabilityList,featureProbabilityList \u7686\u70batrain\u5f8c\u7684\u7d50\u679c\n",
      "# classifyRange \u6240\u8a2d\u4e4b\u9580\u6abb\n",
      "# predictList \u8981\u9810\u6e2c\u7684feature\n",
      "predictList=[10,2,50,56,8,5]\n",
      "predict = Bayespredict(classifyProbabilityList,featureProbabilityList,classifyRange,predictList)"
     ],
     "language": "python",
     "metadata": {},
     "outputs": [],
     "prompt_number": 9
    },
    {
     "cell_type": "code",
     "collapsed": false,
     "input": [
      "predict"
     ],
     "language": "python",
     "metadata": {},
     "outputs": [
      {
       "metadata": {},
       "output_type": "pyout",
       "prompt_number": 10,
       "text": [
        "'s'"
       ]
      }
     ],
     "prompt_number": 10
    }
   ],
   "metadata": {}
  }
 ]
}