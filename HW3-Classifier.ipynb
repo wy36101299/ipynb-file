{
 "metadata": {
  "name": "",
  "signature": "sha256:3d0f184457601a6bc1eacda8a9062d367770563e972afb5d5b50885cbeb18ab7"
 },
 "nbformat": 3,
 "nbformat_minor": 0,
 "worksheets": [
  {
   "cells": [
    {
     "cell_type": "markdown",
     "metadata": {},
     "source": [
      "# data processing"
     ]
    },
    {
     "cell_type": "code",
     "collapsed": false,
     "input": [
      "import pandas as pd"
     ],
     "language": "python",
     "metadata": {},
     "outputs": [],
     "prompt_number": 1
    },
    {
     "cell_type": "code",
     "collapsed": false,
     "input": [
      "def loadData(datapath):\n",
      "    # load data\u4e26\u9032\u884c filter \u53ea\u4fdd\u7559\u4e0b\u9762\u5169\u7a2e\u683c\u5f0f\u7684\u8cc7\u6599\uff0c\u5176\u4ed6\u6709\u7f3a\u9805\u7684\u4e00\u5f8b\u4e0d\u8003\u616e\n",
      "    # \u7b2c\u4e00\u6b04\u7686\u70ba 'M' \u662f\u500b\u6c92\u5fc5\u8981\u7684feature\u6545\u62ff\u6389\n",
      "    # {0 M,2 Gold,3 85,4 80000}\n",
      "    # {0 M,       3 49,4 40000}\n",
      "    with open (datapath,'r') as f:\n",
      "        lines = f.readlines()\n",
      "        filterL = []\n",
      "        for line in lines:\n",
      "            tfL = line.split()\n",
      "            try:\n",
      "                # feature:0\n",
      "                tf0 = tfL[1].split(',')\n",
      "                # feature:1\n",
      "                tf1 = tfL[2].split(',')\n",
      "                # feature:2\n",
      "                tf2 = tfL[3].split(',')\n",
      "                # feature:3\n",
      "                tf3 = tfL[4].split(',')\n",
      "                # feature:4\n",
      "                tf4 = tfL[5].replace('}', '')\n",
      "                if tf0[1]=='1' and tf1[1]=='2' and tf2[1]=='3' and tf3[1]=='4':\n",
      "                    filterL.append([float(tf1[0]),tf2[0],float(tf3[0]),float(tf4)])\n",
      "            except :\n",
      "                pass\n",
      "\n",
      "            try:\n",
      "                # feature:0\n",
      "                tf0 = tfL[1].split(',')\n",
      "                # feature:1\n",
      "                tf1 = tfL[2].split(',')\n",
      "                # feature:3\n",
      "                tf2 = tfL[3].split(',')\n",
      "                # feature:4\n",
      "                tf3 = tfL[4].replace('}', '')\n",
      "                if tf0[1]=='1' and tf1[1]=='3' and tf2[1]=='4':\n",
      "                    filterL.append([float(tf1[0]),'Basic',float(tf2[0]),float(tf3)])\n",
      "            except :\n",
      "                pass\n",
      "    return filterL"
     ],
     "language": "python",
     "metadata": {},
     "outputs": [],
     "prompt_number": 2
    },
    {
     "cell_type": "code",
     "collapsed": false,
     "input": [
      "datapath = '/Users/wy/Desktop/data mining/hw3-Q36034188/training.txt'\n",
      "filterL =  loadData(datapath)"
     ],
     "language": "python",
     "metadata": {},
     "outputs": [],
     "prompt_number": 3
    },
    {
     "cell_type": "code",
     "collapsed": false,
     "input": [
      "# rowname = ['marital_status','num_children_at_home','member_card','age','year_income']\n",
      "rowname = ['num_children_at_home','member_card','age','year_income']\n",
      "df = pd.DataFrame(filterL, columns=rowname)"
     ],
     "language": "python",
     "metadata": {},
     "outputs": [],
     "prompt_number": 4
    },
    {
     "cell_type": "code",
     "collapsed": false,
     "input": [
      "# \u7c21\u55ae\u770b\u4e00\u4e0bdata\n",
      "df.head()"
     ],
     "language": "python",
     "metadata": {},
     "outputs": [
      {
       "html": [
        "<div style=\"max-height:1000px;max-width:1500px;overflow:auto;\">\n",
        "<table border=\"1\" class=\"dataframe\">\n",
        "  <thead>\n",
        "    <tr style=\"text-align: right;\">\n",
        "      <th></th>\n",
        "      <th>num_children_at_home</th>\n",
        "      <th>member_card</th>\n",
        "      <th>age</th>\n",
        "      <th>year_income</th>\n",
        "    </tr>\n",
        "  </thead>\n",
        "  <tbody>\n",
        "    <tr>\n",
        "      <th>0</th>\n",
        "      <td> 1</td>\n",
        "      <td>   Gold</td>\n",
        "      <td> 90</td>\n",
        "      <td>  20000</td>\n",
        "    </tr>\n",
        "    <tr>\n",
        "      <th>1</th>\n",
        "      <td> 2</td>\n",
        "      <td> Silver</td>\n",
        "      <td> 58</td>\n",
        "      <td>  40000</td>\n",
        "    </tr>\n",
        "    <tr>\n",
        "      <th>2</th>\n",
        "      <td> 1</td>\n",
        "      <td>  Basic</td>\n",
        "      <td> 51</td>\n",
        "      <td>  60000</td>\n",
        "    </tr>\n",
        "    <tr>\n",
        "      <th>3</th>\n",
        "      <td> 2</td>\n",
        "      <td>  Basic</td>\n",
        "      <td> 21</td>\n",
        "      <td>  80000</td>\n",
        "    </tr>\n",
        "    <tr>\n",
        "      <th>4</th>\n",
        "      <td> 3</td>\n",
        "      <td>   Gold</td>\n",
        "      <td> 51</td>\n",
        "      <td> 100000</td>\n",
        "    </tr>\n",
        "  </tbody>\n",
        "</table>\n",
        "</div>"
       ],
       "metadata": {},
       "output_type": "pyout",
       "prompt_number": 5,
       "text": [
        "   num_children_at_home member_card  age  year_income\n",
        "0                     1        Gold   90        20000\n",
        "1                     2      Silver   58        40000\n",
        "2                     1       Basic   51        60000\n",
        "3                     2       Basic   21        80000\n",
        "4                     3        Gold   51       100000"
       ]
      }
     ],
     "prompt_number": 5
    },
    {
     "cell_type": "code",
     "collapsed": false,
     "input": [
      "# \u770b\u4e00\u4e0bdata\u7684\u5927\u6982\u72c0\u6cc1\n",
      "df.describe()"
     ],
     "language": "python",
     "metadata": {},
     "outputs": [
      {
       "html": [
        "<div style=\"max-height:1000px;max-width:1500px;overflow:auto;\">\n",
        "<table border=\"1\" class=\"dataframe\">\n",
        "  <thead>\n",
        "    <tr style=\"text-align: right;\">\n",
        "      <th></th>\n",
        "      <th>num_children_at_home</th>\n",
        "      <th>age</th>\n",
        "      <th>year_income</th>\n",
        "    </tr>\n",
        "  </thead>\n",
        "  <tbody>\n",
        "    <tr>\n",
        "      <th>count</th>\n",
        "      <td> 171.000000</td>\n",
        "      <td> 171.000000</td>\n",
        "      <td>    171.000000</td>\n",
        "    </tr>\n",
        "    <tr>\n",
        "      <th>mean</th>\n",
        "      <td>   1.830409</td>\n",
        "      <td>  53.853801</td>\n",
        "      <td>  65847.953216</td>\n",
        "    </tr>\n",
        "    <tr>\n",
        "      <th>std</th>\n",
        "      <td>   1.023494</td>\n",
        "      <td>  19.935683</td>\n",
        "      <td>  37049.414283</td>\n",
        "    </tr>\n",
        "    <tr>\n",
        "      <th>min</th>\n",
        "      <td>   1.000000</td>\n",
        "      <td>  20.000000</td>\n",
        "      <td>  20000.000000</td>\n",
        "    </tr>\n",
        "    <tr>\n",
        "      <th>25%</th>\n",
        "      <td>   1.000000</td>\n",
        "      <td>  36.000000</td>\n",
        "      <td>  40000.000000</td>\n",
        "    </tr>\n",
        "    <tr>\n",
        "      <th>50%</th>\n",
        "      <td>   1.000000</td>\n",
        "      <td>  54.000000</td>\n",
        "      <td>  60000.000000</td>\n",
        "    </tr>\n",
        "    <tr>\n",
        "      <th>75%</th>\n",
        "      <td>   2.000000</td>\n",
        "      <td>  69.500000</td>\n",
        "      <td>  80000.000000</td>\n",
        "    </tr>\n",
        "    <tr>\n",
        "      <th>max</th>\n",
        "      <td>   5.000000</td>\n",
        "      <td>  90.000000</td>\n",
        "      <td> 160000.000000</td>\n",
        "    </tr>\n",
        "  </tbody>\n",
        "</table>\n",
        "</div>"
       ],
       "metadata": {},
       "output_type": "pyout",
       "prompt_number": 6,
       "text": [
        "       num_children_at_home         age    year_income\n",
        "count            171.000000  171.000000     171.000000\n",
        "mean               1.830409   53.853801   65847.953216\n",
        "std                1.023494   19.935683   37049.414283\n",
        "min                1.000000   20.000000   20000.000000\n",
        "25%                1.000000   36.000000   40000.000000\n",
        "50%                1.000000   54.000000   60000.000000\n",
        "75%                2.000000   69.500000   80000.000000\n",
        "max                5.000000   90.000000  160000.000000"
       ]
      }
     ],
     "prompt_number": 6
    },
    {
     "cell_type": "code",
     "collapsed": false,
     "input": [
      "df.max()"
     ],
     "language": "python",
     "metadata": {},
     "outputs": [
      {
       "metadata": {},
       "output_type": "pyout",
       "prompt_number": 7,
       "text": [
        "num_children_at_home         5\n",
        "member_card             Silver\n",
        "age                         90\n",
        "year_income             160000\n",
        "dtype: object"
       ]
      }
     ],
     "prompt_number": 7
    },
    {
     "cell_type": "code",
     "collapsed": false,
     "input": [
      "df.mean()"
     ],
     "language": "python",
     "metadata": {},
     "outputs": [
      {
       "metadata": {},
       "output_type": "pyout",
       "prompt_number": 8,
       "text": [
        "num_children_at_home        1.830409\n",
        "age                        53.853801\n",
        "year_income             65847.953216\n",
        "dtype: float64"
       ]
      }
     ],
     "prompt_number": 8
    },
    {
     "cell_type": "code",
     "collapsed": false,
     "input": [
      "def numericTra(feature,a,b,c):\n",
      "    if feature > a:\n",
      "        return 4\n",
      "    elif a >= feature > b:\n",
      "        return 3\n",
      "    elif b>= feature > c:\n",
      "        return 2\n",
      "    elif c>= feature:\n",
      "        return 1\n",
      "# \u96e2\u6563\u5316 \u628anumeric\u5206\u6210\u56db\u500b\u7b49\u7d1a 4 > (max+mean/2) > 3 > mean > 2 >(mean+min/2) > 1\n",
      "def discretization(df,filterL):\n",
      "#     import copy\n",
      "#     new_list = copy.deepcopy(filterL)\n",
      "    # mean\n",
      "    num_children_at_homeMean = df.mean()[0]\n",
      "    ageMean = df.mean()[1]\n",
      "    year_incomeMean = df.mean()[2]\n",
      "    # (mean\uff0bmax)/2\n",
      "    maxMean = (df.max()+df.mean())/2.\n",
      "    num_children_at_homeMaxMean = maxMean[2]\n",
      "    ageMaxMean = maxMean[0]\n",
      "    year_incomeMaxMean = maxMean[3]\n",
      "    # (mean\uff0bmin)/2\n",
      "    minMean = (df.mean()+df.min())/2.\n",
      "    num_children_at_homeMinMean = minMean[2]\n",
      "    ageMinMean = minMean[0]\n",
      "    year_incomeMinMean = minMean[3]\n",
      "    for ind in range(len(filterL)):\n",
      "        filterL[ind][0] = numericTra(filterL[ind][0],num_children_at_homeMaxMean,num_children_at_homeMean,num_children_at_homeMinMean)\n",
      "        filterL[ind][2] = numericTra(filterL[ind][2],ageMaxMean,year_incomeMean,ageMinMean)\n",
      "        filterL[ind][3] = numericTra(filterL[ind][3],year_incomeMaxMean,year_incomeMean,year_incomeMinMean)\n",
      "discretization(df,filterL)"
     ],
     "language": "python",
     "metadata": {},
     "outputs": [],
     "prompt_number": 9
    },
    {
     "cell_type": "code",
     "collapsed": false,
     "input": [
      "# \u628a label \u79fb\u5230feature\u6700\u5f8c\n",
      "def createDataLabel(filterL):\n",
      "    dataSet=[]\n",
      "    for ind in range(len(filterL)):\n",
      "        dataSet.append([filterL[ind][0],filterL[ind][2],filterL[ind][3],filterL[ind][1]])\n",
      "    return dataSet"
     ],
     "language": "python",
     "metadata": {},
     "outputs": [],
     "prompt_number": 10
    },
    {
     "cell_type": "code",
     "collapsed": false,
     "input": [
      "# \u628adata\u524d\u8655\u7406\u5305\u6210\u4e00\u500bfunction\n",
      "def preprocessing(datapath):\n",
      "    filterL = loadData(datapath)\n",
      "    rowname = ['num_children_at_home','member_card','age','year_income']\n",
      "    df = pd.DataFrame(filterL, columns=rowname)\n",
      "    discretization(df,filterL)\n",
      "    dataSet = createDataLabel(filterL)\n",
      "    return dataSet"
     ],
     "language": "python",
     "metadata": {},
     "outputs": [],
     "prompt_number": 11
    },
    {
     "cell_type": "code",
     "collapsed": false,
     "input": [
      "datapath = '/Users/wy/Desktop/data mining/hw3-Q36034188/training.txt'\n",
      "dataSetHw3 = preprocessing(datapath)"
     ],
     "language": "python",
     "metadata": {},
     "outputs": [],
     "prompt_number": 12
    },
    {
     "cell_type": "code",
     "collapsed": false,
     "input": [
      "dataSetHw3[:5]"
     ],
     "language": "python",
     "metadata": {},
     "outputs": [
      {
       "metadata": {},
       "output_type": "pyout",
       "prompt_number": 13,
       "text": [
        "[[1, 4, 1, 'Gold'],\n",
        " [3, 2, 1, 'Silver'],\n",
        " [1, 2, 2, 'Basic'],\n",
        " [3, 1, 3, 'Basic'],\n",
        " [3, 2, 3, 'Gold']]"
       ]
      }
     ],
     "prompt_number": 13
    },
    {
     "cell_type": "markdown",
     "metadata": {},
     "source": [
      "---"
     ]
    },
    {
     "cell_type": "markdown",
     "metadata": {},
     "source": [
      "# decision tree"
     ]
    },
    {
     "cell_type": "code",
     "collapsed": false,
     "input": [
      "import math\n",
      "import operator"
     ],
     "language": "python",
     "metadata": {},
     "outputs": [],
     "prompt_number": 14
    },
    {
     "cell_type": "code",
     "collapsed": false,
     "input": [
      "def createDataSet():\n",
      "    dataSet = [['a', 1, 'yes'],\n",
      "               ['a', 1, 'yes'],\n",
      "               ['a', 0, 'no'],\n",
      "               ['b', 1, 'no'],\n",
      "               ['b', 1, 'no']]\n",
      "    labels = ['no surfacing','flippers']\n",
      "    #change to discrete values\n",
      "    return dataSet, labels"
     ],
     "language": "python",
     "metadata": {},
     "outputs": [],
     "prompt_number": 15
    },
    {
     "cell_type": "code",
     "collapsed": false,
     "input": [
      "dataSet, labels = createDataSet()"
     ],
     "language": "python",
     "metadata": {},
     "outputs": [],
     "prompt_number": 16
    },
    {
     "cell_type": "code",
     "collapsed": false,
     "input": [
      "# \u8a08\u7b97entropy\n",
      "def calcShannonEnt(dataSet):\n",
      "    numEntries = len(dataSet)\n",
      "    labelCounts = {}\n",
      "    for featVec in dataSet: \n",
      "        # \u9078\u64c7 label\n",
      "        currentLabel = featVec[-1]\n",
      "        if currentLabel not in labelCounts.keys(): \n",
      "            labelCounts[currentLabel] = 0.\n",
      "        labelCounts[currentLabel] += 1.\n",
      "    shannonEnt = 0.\n",
      "    for key in labelCounts:\n",
      "        prob = labelCounts[key]/numEntries\n",
      "        # -P(V1)*LOG2P(V)\n",
      "        shannonEnt -= prob * math.log(prob,2) #log base 2\n",
      "    return shannonEnt"
     ],
     "language": "python",
     "metadata": {},
     "outputs": [],
     "prompt_number": 17
    },
    {
     "cell_type": "code",
     "collapsed": false,
     "input": [
      "calcShannonEnt(dataSet)"
     ],
     "language": "python",
     "metadata": {},
     "outputs": [
      {
       "metadata": {},
       "output_type": "pyout",
       "prompt_number": 18,
       "text": [
        "0.9709505944546686"
       ]
      }
     ],
     "prompt_number": 18
    },
    {
     "cell_type": "code",
     "collapsed": false,
     "input": [
      "def splitDataSet(dataSet, axis, value):\n",
      "    # axis \u7b2c\u5e7e\u500bfeature\u9700\u8981\u88ab\u5207\u5272 , value\u4e00\u6a23\u624d\u4fdd\u7559\u4e0b\u4f86\n",
      "    retDataSet = []\n",
      "    for featVec in dataSet:\n",
      "        if featVec[axis] == value:\n",
      "            # pass the axis\n",
      "            reducedFeatVec = featVec[:axis]\n",
      "            reducedFeatVec.extend(featVec[axis+1:])\n",
      "            retDataSet.append(reducedFeatVec)\n",
      "    return retDataSet"
     ],
     "language": "python",
     "metadata": {},
     "outputs": [],
     "prompt_number": 19
    },
    {
     "cell_type": "code",
     "collapsed": false,
     "input": [
      "splitDataSet(dataSet,1,1)"
     ],
     "language": "python",
     "metadata": {},
     "outputs": [
      {
       "metadata": {},
       "output_type": "pyout",
       "prompt_number": 20,
       "text": [
        "[['a', 'yes'], ['a', 'yes'], ['b', 'no'], ['b', 'no']]"
       ]
      }
     ],
     "prompt_number": 20
    },
    {
     "cell_type": "code",
     "collapsed": false,
     "input": [
      "splitDataSet(dataSet,1,0)"
     ],
     "language": "python",
     "metadata": {},
     "outputs": [
      {
       "metadata": {},
       "output_type": "pyout",
       "prompt_number": 21,
       "text": [
        "[['a', 'no']]"
       ]
      }
     ],
     "prompt_number": 21
    },
    {
     "cell_type": "code",
     "collapsed": false,
     "input": [
      "dataSet"
     ],
     "language": "python",
     "metadata": {},
     "outputs": [
      {
       "metadata": {},
       "output_type": "pyout",
       "prompt_number": 22,
       "text": [
        "[['a', 1, 'yes'],\n",
        " ['a', 1, 'yes'],\n",
        " ['a', 0, 'no'],\n",
        " ['b', 1, 'no'],\n",
        " ['b', 1, 'no']]"
       ]
      }
     ],
     "prompt_number": 22
    },
    {
     "cell_type": "code",
     "collapsed": false,
     "input": [
      "def chooseBestFeatureToSplit(dataSet):\n",
      "    # \u6700\u5f8c\u4e00\u6b04\u70balabel\n",
      "    numFeatures = len(dataSet[0]) - 1\n",
      "    # \u76ee\u524d\u7684baseEntropy\n",
      "    baseEntropy = calcShannonEnt(dataSet)\n",
      "    bestInfoGain = 0.0\n",
      "    bestFeature = -1\n",
      "    for i in range(numFeatures):        #iterate over all the features\n",
      "        # \u540c\u6b04\u7684feature\u4f75\u5230\u540clist\n",
      "        featList = [example[i] for example in dataSet]\n",
      "        # \u53d6\u5f97\u8a72\u540clist\u7684feature\u96c6\u5408\n",
      "        uniqueVals = set(featList)       #get a set of unique values\n",
      "        newEntropy = 0.0\n",
      "        for value in uniqueVals:\n",
      "            subDataSet = splitDataSet(dataSet, i, value)\n",
      "            prob = len(subDataSet)/float(len(dataSet))\n",
      "            newEntropy += prob * calcShannonEnt(subDataSet)     \n",
      "        infoGain = baseEntropy - newEntropy     #calculate the info gain; ie reduction in entropy\n",
      "        if (infoGain > bestInfoGain):       #compare this to the best gain so far\n",
      "            bestInfoGain = infoGain         #if better than current best, set to best\n",
      "            bestFeature = i\n",
      "    return bestFeature                      #returns an integer"
     ],
     "language": "python",
     "metadata": {},
     "outputs": [],
     "prompt_number": 23
    },
    {
     "cell_type": "code",
     "collapsed": false,
     "input": [
      "bestFeature = chooseBestFeatureToSplit(dataSet)"
     ],
     "language": "python",
     "metadata": {},
     "outputs": [],
     "prompt_number": 24
    },
    {
     "cell_type": "code",
     "collapsed": false,
     "input": [
      "bestFeature"
     ],
     "language": "python",
     "metadata": {},
     "outputs": [
      {
       "metadata": {},
       "output_type": "pyout",
       "prompt_number": 25,
       "text": [
        "0"
       ]
      }
     ],
     "prompt_number": 25
    },
    {
     "cell_type": "code",
     "collapsed": false,
     "input": [
      "def majorityCnt(classList):\n",
      "    classCount={}\n",
      "    for vote in classList:\n",
      "        if vote not in classCount.keys(): classCount[vote] = 0\n",
      "        classCount[vote] += 1\n",
      "    sortedClassCount = sorted(classCount.iteritems(), key=operator.itemgetter(1), reverse=True)\n",
      "    return sortedClassCount[0][0]\n",
      "\n",
      "def createTree(dataSet,labels):\n",
      "    # \u628adataSet\u7684labels \u5b58\u9032 classList\n",
      "    classList = [example[-1] for example in dataSet]\n",
      "    # \u7576labels\u4e00\u6a23\u6642\u505c\u6b62\n",
      "    if classList.count(classList[0]) == len(classList):\n",
      "        return classList[0]\n",
      "    \n",
      "    # \u7576\u6c92\u6709feature\u53ef\u4ee5\u5283\u5206\u6642\u505c\u6b62\n",
      "    if len(dataSet[0]) == 1: \n",
      "        # \u6311\u9078\u6b21\u6578\u6700\u591a\u7684label\u7576\u4f5creturn value\n",
      "        return majorityCnt(classList)\n",
      "    # \u9078\u64c7\u6700\u4f73\u5207\u5272\u7684feature\n",
      "    bestFeat = chooseBestFeatureToSplit(dataSet)\n",
      "    bestFeatLabel = labels[bestFeat]\n",
      "    myTree = {bestFeatLabel:{}}\n",
      "    del(labels[bestFeat])\n",
      "    featValues = [example[bestFeat] for example in dataSet]\n",
      "    uniqueVals = set(featValues)\n",
      "    for value in uniqueVals:\n",
      "        subLabels = labels[:]       #copy all of labels, so trees don't mess up existing labels\n",
      "        myTree[bestFeatLabel][value] = createTree(splitDataSet(dataSet, bestFeat, value),subLabels)\n",
      "    return myTree   "
     ],
     "language": "python",
     "metadata": {},
     "outputs": [],
     "prompt_number": 26
    },
    {
     "cell_type": "code",
     "collapsed": false,
     "input": [
      "myTree = createTree(dataSet,labels)"
     ],
     "language": "python",
     "metadata": {},
     "outputs": [],
     "prompt_number": 27
    },
    {
     "cell_type": "code",
     "collapsed": false,
     "input": [
      "myTree"
     ],
     "language": "python",
     "metadata": {},
     "outputs": [
      {
       "metadata": {},
       "output_type": "pyout",
       "prompt_number": 28,
       "text": [
        "{'no surfacing': {'a': {'flippers': {0: 'no', 1: 'yes'}}, 'b': 'no'}}"
       ]
      }
     ],
     "prompt_number": 28
    },
    {
     "cell_type": "code",
     "collapsed": false,
     "input": [
      "def classify(inputTree,featLabels,testVec):\n",
      "    firstStr = inputTree.keys()[0]\n",
      "    secondDict = inputTree[firstStr]\n",
      "    featIndex = featLabels.index(firstStr)\n",
      "    key = testVec[featIndex]\n",
      "    valueOfFeat = secondDict[key]\n",
      "    if isinstance(valueOfFeat, dict): \n",
      "        classLabel = classify(valueOfFeat, featLabels, testVec)\n",
      "    else: classLabel = valueOfFeat\n",
      "    return classLabel"
     ],
     "language": "python",
     "metadata": {},
     "outputs": [],
     "prompt_number": 29
    },
    {
     "cell_type": "code",
     "collapsed": false,
     "input": [
      "dataSet, labels = createDataSet()"
     ],
     "language": "python",
     "metadata": {},
     "outputs": [],
     "prompt_number": 30
    },
    {
     "cell_type": "code",
     "collapsed": false,
     "input": [
      "classify(myTree,labels,['a',0])"
     ],
     "language": "python",
     "metadata": {},
     "outputs": [
      {
       "metadata": {},
       "output_type": "pyout",
       "prompt_number": 31,
       "text": [
        "'no'"
       ]
      }
     ],
     "prompt_number": 31
    },
    {
     "cell_type": "markdown",
     "metadata": {},
     "source": [
      "---\n",
      "# load hw3 data"
     ]
    },
    {
     "cell_type": "code",
     "collapsed": false,
     "input": [
      "dataSetHw3[:5]"
     ],
     "language": "python",
     "metadata": {},
     "outputs": [
      {
       "metadata": {},
       "output_type": "pyout",
       "prompt_number": 32,
       "text": [
        "[[1, 4, 1, 'Gold'],\n",
        " [3, 2, 1, 'Silver'],\n",
        " [1, 2, 2, 'Basic'],\n",
        " [3, 1, 3, 'Basic'],\n",
        " [3, 2, 3, 'Gold']]"
       ]
      }
     ],
     "prompt_number": 32
    },
    {
     "cell_type": "code",
     "collapsed": false,
     "input": [
      "labelsHw3 = ['num_children_at_home','age','year_income']"
     ],
     "language": "python",
     "metadata": {},
     "outputs": [],
     "prompt_number": 33
    },
    {
     "cell_type": "code",
     "collapsed": false,
     "input": [
      "myTreeHw3 = createTree(dataSetHw3,labelsHw3)"
     ],
     "language": "python",
     "metadata": {},
     "outputs": [],
     "prompt_number": 34
    },
    {
     "cell_type": "code",
     "collapsed": false,
     "input": [
      "# tree model \u5efa\u7acb\u5b8c\u6210\n",
      "myTreeHw3"
     ],
     "language": "python",
     "metadata": {},
     "outputs": [
      {
       "metadata": {},
       "output_type": "pyout",
       "prompt_number": 35,
       "text": [
        "{'num_children_at_home': {1: {'year_income': {1: {'age': {1: 'Basic',\n",
        "      2: 'Basic',\n",
        "      4: 'Basic'}},\n",
        "    2: {'age': {1: 'Normal', 2: 'Basic', 4: 'Basic'}},\n",
        "    3: {'age': {1: 'Gold', 2: 'Basic', 4: 'Basic'}},\n",
        "    4: {'age': {1: 'Basic', 2: 'Basic', 4: 'Silver'}}}},\n",
        "  3: {'year_income': {1: {'age': {1: 'Gold', 2: 'Basic', 4: 'Gold'}},\n",
        "    2: {'age': {1: 'Basic', 2: 'Gold', 4: 'Gold'}},\n",
        "    3: {'age': {1: 'Gold', 2: 'Gold', 4: 'Basic'}},\n",
        "    4: {'age': {1: 'Basic', 2: 'Basic', 4: 'Basic'}}}},\n",
        "  4: {'year_income': {1: 'Gold',\n",
        "    2: {'age': {'Basic': 'Basic', 'Silver': 'Silver'}},\n",
        "    3: 'Basic',\n",
        "    4: {'age': {2: 'Gold', 4: 'Gold'}}}}}}"
       ]
      }
     ],
     "prompt_number": 35
    },
    {
     "cell_type": "code",
     "collapsed": false,
     "input": [
      "# \u8f09\u5165 test data\n",
      "testdatapath = '/Users/wy/Desktop/data mining/hw3-Q36034188/test.txt'\n",
      "dataSetTestHw3 = preprocessing(datapath)"
     ],
     "language": "python",
     "metadata": {},
     "outputs": [],
     "prompt_number": 36
    },
    {
     "cell_type": "code",
     "collapsed": false,
     "input": [
      "testFeature=[]\n",
      "testAnswer=[]\n",
      "for line in range(len(dataSetTestHw3)):\n",
      "    testFeature.append(dataSetTestHw3[line][:3])\n",
      "    testAnswer.append(dataSetTestHw3[line][-1])"
     ],
     "language": "python",
     "metadata": {},
     "outputs": [],
     "prompt_number": 37
    },
    {
     "cell_type": "code",
     "collapsed": false,
     "input": [
      "testFeature[:5]"
     ],
     "language": "python",
     "metadata": {},
     "outputs": [
      {
       "metadata": {},
       "output_type": "pyout",
       "prompt_number": 38,
       "text": [
        "[[1, 4, 1], [3, 2, 1], [1, 2, 2], [3, 1, 3], [3, 2, 3]]"
       ]
      }
     ],
     "prompt_number": 38
    },
    {
     "cell_type": "code",
     "collapsed": false,
     "input": [
      "testAnswer[:5]"
     ],
     "language": "python",
     "metadata": {},
     "outputs": [
      {
       "metadata": {},
       "output_type": "pyout",
       "prompt_number": 39,
       "text": [
        "['Gold', 'Silver', 'Basic', 'Basic', 'Gold']"
       ]
      }
     ],
     "prompt_number": 39
    },
    {
     "cell_type": "code",
     "collapsed": false,
     "input": [
      "dataSetTestHw3[:5]"
     ],
     "language": "python",
     "metadata": {},
     "outputs": [
      {
       "metadata": {},
       "output_type": "pyout",
       "prompt_number": 40,
       "text": [
        "[[1, 4, 1, 'Gold'],\n",
        " [3, 2, 1, 'Silver'],\n",
        " [1, 2, 2, 'Basic'],\n",
        " [3, 1, 3, 'Basic'],\n",
        " [3, 2, 3, 'Gold']]"
       ]
      }
     ],
     "prompt_number": 40
    },
    {
     "cell_type": "code",
     "collapsed": false,
     "input": [
      "labelsHw3 = ['num_children_at_home','age','year_income']"
     ],
     "language": "python",
     "metadata": {},
     "outputs": [],
     "prompt_number": 41
    },
    {
     "cell_type": "code",
     "collapsed": false,
     "input": [
      "classificationsAnswer=[]\n",
      "for f in testFeature:\n",
      "    try:\n",
      "        classificationsAnswer.append(classify(myTreeHw3,labelsHw3,f))\n",
      "    except:\n",
      "        classificationsAnswer.append('Basic')"
     ],
     "language": "python",
     "metadata": {},
     "outputs": [],
     "prompt_number": 42
    },
    {
     "cell_type": "code",
     "collapsed": false,
     "input": [
      "num = len(testAnswer)\n",
      "ans = 0\n",
      "for a,b in zip(classificationsAnswer,testAnswer):\n",
      "    if a==b:\n",
      "        ans+=1\n",
      "correctness = float(ans)/float(num)"
     ],
     "language": "python",
     "metadata": {},
     "outputs": [],
     "prompt_number": 43
    },
    {
     "cell_type": "code",
     "collapsed": false,
     "input": [
      "# \u6e96\u78ba\u7387 0.56%\n",
      "correctness"
     ],
     "language": "python",
     "metadata": {},
     "outputs": [
      {
       "metadata": {},
       "output_type": "pyout",
       "prompt_number": 44,
       "text": [
        "0.5672514619883041"
       ]
      }
     ],
     "prompt_number": 44
    },
    {
     "cell_type": "code",
     "collapsed": false,
     "input": [
      "# \u5efa\u7acb\u771f\u5be6\u548c\u5206\u985e\u5668\u7d50\u679c\u7684table\n",
      "GGold=0\n",
      "GSilver=0\n",
      "GNormal=0\n",
      "GBasic=0\n",
      "\n",
      "SGold=0\n",
      "SSilver=0\n",
      "SNormal=0\n",
      "SBasic=0\n",
      "\n",
      "NGold=0\n",
      "NSilver=0\n",
      "NNormal=0\n",
      "NBasic=0\n",
      "\n",
      "BGold=0\n",
      "BSilver=0\n",
      "BNormal=0\n",
      "BBasic=0\n",
      "for a,b in zip(classificationsAnswer,testAnswer):\n",
      "    if b=='Gold':\n",
      "        if a=='Gold':\n",
      "            GGold+=1\n",
      "        elif a=='Silver':\n",
      "            GSilver+=1\n",
      "        elif a=='Normal':\n",
      "            GNormal+=1\n",
      "        elif a=='Basic':\n",
      "            GBasic+=1\n",
      "    elif b=='Silver':\n",
      "        if a=='Gold':\n",
      "            SGold+=1\n",
      "        elif a=='Silver':\n",
      "            SSilver+=1\n",
      "        elif a=='Normal':\n",
      "            SNormal+=1\n",
      "        elif a=='Basic':\n",
      "            SBasic+=1       \n",
      "    elif b=='Normal':\n",
      "        if a=='Gold':\n",
      "            NGold+=1\n",
      "        elif a=='Silver':\n",
      "            NSilver+=1\n",
      "        elif a=='Normal':\n",
      "            NNormal+=1\n",
      "        elif a=='Basic':\n",
      "            NBasic+=1         \n",
      "    elif b=='Basic':\n",
      "        if a=='Gold':\n",
      "            BGold+=1\n",
      "        elif a=='Silver':\n",
      "            BSilver+=1\n",
      "        elif a=='Normal':\n",
      "            BNormal+=1\n",
      "        elif a=='Basic':\n",
      "            BBasic+=1  \n",
      "corMatrix = [[GGold,GSilver,GNormal,GBasic],[SGold,SSilver,SNormal,SBasic],[NGold,NSilver,NNormal,NBasic],[BGold,BSilver,BNormal,BBasic]]\n",
      "rowname = ['Gold','Silver','Normal','Basic']\n",
      "indexname = ['True-Gold','True-Silver','True-Normal','True-Basic']\n",
      "corMatrixdf = pd.DataFrame(corMatrix, index=indexname,columns=rowname)"
     ],
     "language": "python",
     "metadata": {},
     "outputs": [],
     "prompt_number": 45
    },
    {
     "cell_type": "code",
     "collapsed": false,
     "input": [
      "corMatrixdf"
     ],
     "language": "python",
     "metadata": {},
     "outputs": [
      {
       "html": [
        "<div style=\"max-height:1000px;max-width:1500px;overflow:auto;\">\n",
        "<table border=\"1\" class=\"dataframe\">\n",
        "  <thead>\n",
        "    <tr style=\"text-align: right;\">\n",
        "      <th></th>\n",
        "      <th>Gold</th>\n",
        "      <th>Silver</th>\n",
        "      <th>Normal</th>\n",
        "      <th>Basic</th>\n",
        "    </tr>\n",
        "  </thead>\n",
        "  <tbody>\n",
        "    <tr>\n",
        "      <th>True-Gold</th>\n",
        "      <td> 31</td>\n",
        "      <td> 1</td>\n",
        "      <td> 0</td>\n",
        "      <td> 17</td>\n",
        "    </tr>\n",
        "    <tr>\n",
        "      <th>True-Silver</th>\n",
        "      <td>  3</td>\n",
        "      <td> 1</td>\n",
        "      <td> 0</td>\n",
        "      <td> 14</td>\n",
        "    </tr>\n",
        "    <tr>\n",
        "      <th>True-Normal</th>\n",
        "      <td>  6</td>\n",
        "      <td> 0</td>\n",
        "      <td> 1</td>\n",
        "      <td> 19</td>\n",
        "    </tr>\n",
        "    <tr>\n",
        "      <th>True-Basic</th>\n",
        "      <td> 13</td>\n",
        "      <td> 1</td>\n",
        "      <td> 0</td>\n",
        "      <td> 64</td>\n",
        "    </tr>\n",
        "  </tbody>\n",
        "</table>\n",
        "</div>"
       ],
       "metadata": {},
       "output_type": "pyout",
       "prompt_number": 46,
       "text": [
        "             Gold  Silver  Normal  Basic\n",
        "True-Gold      31       1       0     17\n",
        "True-Silver     3       1       0     14\n",
        "True-Normal     6       0       1     19\n",
        "True-Basic     13       1       0     64"
       ]
      }
     ],
     "prompt_number": 46
    },
    {
     "cell_type": "code",
     "collapsed": false,
     "input": [],
     "language": "python",
     "metadata": {},
     "outputs": []
    }
   ],
   "metadata": {}
  }
 ]
}